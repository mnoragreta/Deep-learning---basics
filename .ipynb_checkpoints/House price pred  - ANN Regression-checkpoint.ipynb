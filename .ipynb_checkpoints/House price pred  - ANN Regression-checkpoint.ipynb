{
 "cells": [
  {
   "cell_type": "code",
   "execution_count": 1,
   "id": "c26874fc-a240-4c71-9b61-d9e35c3792a2",
   "metadata": {},
   "outputs": [],
   "source": [
    "import pandas as pd\n",
    "pd.set_option('display.float_format', '{:.2f}'.format)\n",
    "import numpy as np\n",
    "import seaborn as sns\n",
    "import matplotlib.pyplot as plt\n",
    "import matplotlib.ticker as ticker\n",
    "import tensorflow as tf\n",
    "import sklearn\n",
    "from sklearn.preprocessing import StandardScaler\n",
    "from keras.layers import InputLayer , Dense, Dropout, Input\n",
    "from keras.models import Sequential\n",
    "from keras.layers import Dense\n",
    "from keras.optimizers import Adam\n",
    "from tensorflow.keras.callbacks import EarlyStopping\n",
    "from sklearn.metrics import make_scorer, r2_score, mean_squared_error\n",
    "from sklearn.preprocessing import MinMaxScaler\n",
    "from keras_tuner import RandomSearch\n",
    "import keras_tuner as kt"
   ]
  },
  {
   "cell_type": "code",
   "execution_count": 2,
   "id": "36e751f1",
   "metadata": {},
   "outputs": [
    {
     "data": {
      "text/html": [
       "<div>\n",
       "<style scoped>\n",
       "    .dataframe tbody tr th:only-of-type {\n",
       "        vertical-align: middle;\n",
       "    }\n",
       "\n",
       "    .dataframe tbody tr th {\n",
       "        vertical-align: top;\n",
       "    }\n",
       "\n",
       "    .dataframe thead th {\n",
       "        text-align: right;\n",
       "    }\n",
       "</style>\n",
       "<table border=\"1\" class=\"dataframe\">\n",
       "  <thead>\n",
       "    <tr style=\"text-align: right;\">\n",
       "      <th></th>\n",
       "      <th>number_of_rooms</th>\n",
       "      <th>floor</th>\n",
       "      <th>area</th>\n",
       "      <th>latitude</th>\n",
       "      <th>longitude</th>\n",
       "      <th>price</th>\n",
       "    </tr>\n",
       "  </thead>\n",
       "  <tbody>\n",
       "    <tr>\n",
       "      <th>0</th>\n",
       "      <td>1</td>\n",
       "      <td>1</td>\n",
       "      <td>58.00</td>\n",
       "      <td>38.59</td>\n",
       "      <td>68.79</td>\n",
       "      <td>330000</td>\n",
       "    </tr>\n",
       "    <tr>\n",
       "      <th>1</th>\n",
       "      <td>1</td>\n",
       "      <td>14</td>\n",
       "      <td>68.00</td>\n",
       "      <td>38.52</td>\n",
       "      <td>68.75</td>\n",
       "      <td>340000</td>\n",
       "    </tr>\n",
       "    <tr>\n",
       "      <th>3</th>\n",
       "      <td>3</td>\n",
       "      <td>14</td>\n",
       "      <td>84.00</td>\n",
       "      <td>38.52</td>\n",
       "      <td>68.75</td>\n",
       "      <td>700000</td>\n",
       "    </tr>\n",
       "    <tr>\n",
       "      <th>4</th>\n",
       "      <td>3</td>\n",
       "      <td>3</td>\n",
       "      <td>83.00</td>\n",
       "      <td>38.56</td>\n",
       "      <td>68.74</td>\n",
       "      <td>415000</td>\n",
       "    </tr>\n",
       "    <tr>\n",
       "      <th>5</th>\n",
       "      <td>3</td>\n",
       "      <td>4</td>\n",
       "      <td>53.00</td>\n",
       "      <td>38.53</td>\n",
       "      <td>68.75</td>\n",
       "      <td>513000</td>\n",
       "    </tr>\n",
       "  </tbody>\n",
       "</table>\n",
       "</div>"
      ],
      "text/plain": [
       "   number_of_rooms  floor  area  latitude  longitude   price\n",
       "0                1      1 58.00     38.59      68.79  330000\n",
       "1                1     14 68.00     38.52      68.75  340000\n",
       "3                3     14 84.00     38.52      68.75  700000\n",
       "4                3      3 83.00     38.56      68.74  415000\n",
       "5                3      4 53.00     38.53      68.75  513000"
      ]
     },
     "execution_count": 2,
     "metadata": {},
     "output_type": "execute_result"
    }
   ],
   "source": [
    "data = pd.read_csv(r\"C:\\Users\\lily\\Desktop\\IT alapok privát\\PRIV DATA SC 1025\\house 1030.csv\")\n",
    "\n",
    "data.dropna(inplace=True)\n",
    "\n",
    "data.head()"
   ]
  },
  {
   "cell_type": "markdown",
   "id": "f9aa9529-af24-49b2-b7d2-f2136413cd17",
   "metadata": {},
   "source": [
    "### EDA"
   ]
  },
  {
   "cell_type": "code",
   "execution_count": 3,
   "id": "dd20785c-8157-4540-980b-5234929068dd",
   "metadata": {},
   "outputs": [
    {
     "name": "stdout",
     "output_type": "stream",
     "text": [
      "<class 'pandas.core.frame.DataFrame'>\n",
      "Index: 3730 entries, 0 to 5572\n",
      "Data columns (total 6 columns):\n",
      " #   Column           Non-Null Count  Dtype  \n",
      "---  ------           --------------  -----  \n",
      " 0   number_of_rooms  3730 non-null   int64  \n",
      " 1   floor            3730 non-null   int64  \n",
      " 2   area             3730 non-null   float64\n",
      " 3   latitude         3730 non-null   float64\n",
      " 4   longitude        3730 non-null   float64\n",
      " 5   price            3730 non-null   int64  \n",
      "dtypes: float64(3), int64(3)\n",
      "memory usage: 204.0 KB\n"
     ]
    }
   ],
   "source": [
    "data.info()"
   ]
  },
  {
   "cell_type": "code",
   "execution_count": 4,
   "id": "c5de9331-b789-43a4-b05d-d81a3267792c",
   "metadata": {},
   "outputs": [
    {
     "data": {
      "text/html": [
       "<div>\n",
       "<style scoped>\n",
       "    .dataframe tbody tr th:only-of-type {\n",
       "        vertical-align: middle;\n",
       "    }\n",
       "\n",
       "    .dataframe tbody tr th {\n",
       "        vertical-align: top;\n",
       "    }\n",
       "\n",
       "    .dataframe thead th {\n",
       "        text-align: right;\n",
       "    }\n",
       "</style>\n",
       "<table border=\"1\" class=\"dataframe\">\n",
       "  <thead>\n",
       "    <tr style=\"text-align: right;\">\n",
       "      <th></th>\n",
       "      <th>number_of_rooms</th>\n",
       "      <th>floor</th>\n",
       "      <th>area</th>\n",
       "      <th>latitude</th>\n",
       "      <th>longitude</th>\n",
       "      <th>price</th>\n",
       "    </tr>\n",
       "  </thead>\n",
       "  <tbody>\n",
       "    <tr>\n",
       "      <th>count</th>\n",
       "      <td>3730.00</td>\n",
       "      <td>3730.00</td>\n",
       "      <td>3730.00</td>\n",
       "      <td>3730.00</td>\n",
       "      <td>3730.00</td>\n",
       "      <td>3730.00</td>\n",
       "    </tr>\n",
       "    <tr>\n",
       "      <th>mean</th>\n",
       "      <td>2.32</td>\n",
       "      <td>6.55</td>\n",
       "      <td>72.18</td>\n",
       "      <td>38.55</td>\n",
       "      <td>68.77</td>\n",
       "      <td>534874.74</td>\n",
       "    </tr>\n",
       "    <tr>\n",
       "      <th>std</th>\n",
       "      <td>1.04</td>\n",
       "      <td>4.36</td>\n",
       "      <td>33.33</td>\n",
       "      <td>0.03</td>\n",
       "      <td>0.06</td>\n",
       "      <td>416399.58</td>\n",
       "    </tr>\n",
       "    <tr>\n",
       "      <th>min</th>\n",
       "      <td>1.00</td>\n",
       "      <td>0.00</td>\n",
       "      <td>16.00</td>\n",
       "      <td>37.51</td>\n",
       "      <td>68.67</td>\n",
       "      <td>450.00</td>\n",
       "    </tr>\n",
       "    <tr>\n",
       "      <th>25%</th>\n",
       "      <td>2.00</td>\n",
       "      <td>3.00</td>\n",
       "      <td>50.00</td>\n",
       "      <td>38.53</td>\n",
       "      <td>68.74</td>\n",
       "      <td>320000.00</td>\n",
       "    </tr>\n",
       "    <tr>\n",
       "      <th>50%</th>\n",
       "      <td>2.00</td>\n",
       "      <td>5.00</td>\n",
       "      <td>65.00</td>\n",
       "      <td>38.56</td>\n",
       "      <td>68.76</td>\n",
       "      <td>450000.00</td>\n",
       "    </tr>\n",
       "    <tr>\n",
       "      <th>75%</th>\n",
       "      <td>3.00</td>\n",
       "      <td>10.00</td>\n",
       "      <td>84.00</td>\n",
       "      <td>38.57</td>\n",
       "      <td>68.79</td>\n",
       "      <td>630000.00</td>\n",
       "    </tr>\n",
       "    <tr>\n",
       "      <th>max</th>\n",
       "      <td>6.00</td>\n",
       "      <td>20.00</td>\n",
       "      <td>370.00</td>\n",
       "      <td>38.62</td>\n",
       "      <td>71.51</td>\n",
       "      <td>8814000.00</td>\n",
       "    </tr>\n",
       "  </tbody>\n",
       "</table>\n",
       "</div>"
      ],
      "text/plain": [
       "       number_of_rooms   floor    area  latitude  longitude      price\n",
       "count          3730.00 3730.00 3730.00   3730.00    3730.00    3730.00\n",
       "mean              2.32    6.55   72.18     38.55      68.77  534874.74\n",
       "std               1.04    4.36   33.33      0.03       0.06  416399.58\n",
       "min               1.00    0.00   16.00     37.51      68.67     450.00\n",
       "25%               2.00    3.00   50.00     38.53      68.74  320000.00\n",
       "50%               2.00    5.00   65.00     38.56      68.76  450000.00\n",
       "75%               3.00   10.00   84.00     38.57      68.79  630000.00\n",
       "max               6.00   20.00  370.00     38.62      71.51 8814000.00"
      ]
     },
     "execution_count": 4,
     "metadata": {},
     "output_type": "execute_result"
    }
   ],
   "source": [
    "data.describe()"
   ]
  },
  {
   "cell_type": "markdown",
   "id": "2a1b35ff-9384-4807-85c2-6fd97629f4e7",
   "metadata": {},
   "source": [
    "*Comment: Dataset needs to be scaled after split.*"
   ]
  },
  {
   "cell_type": "markdown",
   "id": "d2dc8ea6-b5f8-4587-acac-9008eb19de67",
   "metadata": {},
   "source": [
    "#### Outlier management"
   ]
  },
  {
   "cell_type": "code",
   "execution_count": 5,
   "id": "95882776-9155-49d6-b37d-747cf256a216",
   "metadata": {},
   "outputs": [
    {
     "data": {
      "image/png": "[encoded data removed]",
      "text/plain": [
       "<Figure size 640x480 with 1 Axes>"
      ]
     },
     "metadata": {},
     "output_type": "display_data"
    }
   ],
   "source": [
    "sns.boxplot(y=data['price'])\n",
    "plt.yscale('linear')  \n",
    "plt.gca().yaxis.set_major_formatter(ticker.FuncFormatter(lambda x, _: f'{x:.0f}'))"
   ]
  },
  {
   "cell_type": "code",
   "execution_count": 6,
   "id": "7c7f381c-d171-434c-8485-4bda3c7f9f45",
   "metadata": {},
   "outputs": [],
   "source": [
    "non_outlier_price = (\n",
    "    (data['price'] < data['price'].quantile(0.97)) &\n",
    "    (data['price'] > data['price'].quantile(0.03))\n",
    ")"
   ]
  },
  {
   "cell_type": "code",
   "execution_count": 7,
   "id": "158b105c-b83f-4075-8a06-54a61385a9ad",
   "metadata": {},
   "outputs": [],
   "source": [
    "data = data[non_outlier_price]"
   ]
  },
  {
   "cell_type": "code",
   "execution_count": 8,
   "id": "092d73b4-20f2-402a-acc1-2a1d7d6b25d4",
   "metadata": {},
   "outputs": [
    {
     "data": {
      "image/png": "[encoded data removed]",
      "text/plain": [
       "<Figure size 640x480 with 1 Axes>"
      ]
     },
     "metadata": {},
     "output_type": "display_data"
    }
   ],
   "source": [
    "sns.boxplot(y=data['price'])\n",
    "plt.yscale('linear')  \n",
    "plt.gca().yaxis.set_major_formatter(ticker.FuncFormatter(lambda x, _: f'{x:.0f}'))"
   ]
  },
  {
   "cell_type": "code",
   "execution_count": 9,
   "id": "718a17e3-e983-40cc-acaa-921b3d6fbf25",
   "metadata": {},
   "outputs": [
    {
     "data": {
      "text/plain": [
       "<AxesSubplot: >"
      ]
     },
     "execution_count": 9,
     "metadata": {},
     "output_type": "execute_result"
    },
    {
     "data": {
      "image/png": "[encoded data removed]",
      "text/plain": [
       "<Figure size 640x480 with 1 Axes>"
      ]
     },
     "metadata": {},
     "output_type": "display_data"
    }
   ],
   "source": [
    "data['price'].hist() #"
   ]
  },
  {
   "cell_type": "code",
   "execution_count": null,
   "id": "e5da1a6b-9d64-4376-b6e1-ad76aa751734",
   "metadata": {},
   "outputs": [],
   "source": [
    "# heatmap"
   ]
  },
  {
   "cell_type": "markdown",
   "id": "e18b20b7-5b46-427d-9b28-e7c24e2db09e",
   "metadata": {},
   "source": [
    "#####  Data split & Scaling"
   ]
  },
  {
   "cell_type": "code",
   "execution_count": 9,
   "id": "7cb120d9",
   "metadata": {},
   "outputs": [],
   "source": [
    "X = data.drop('price', axis=1)\n",
    "y = data.price"
   ]
  },
  {
   "cell_type": "code",
   "execution_count": 10,
   "id": "a3366d00",
   "metadata": {},
   "outputs": [],
   "source": [
    "from sklearn.model_selection import train_test_split\n",
    "X_train, X_test, y_train , y_test = train_test_split(X, y, test_size=0.2, random_state=0)"
   ]
  },
  {
   "cell_type": "code",
   "execution_count": 11,
   "id": "84636248-5c11-496c-a8fb-ee8caf49e77a",
   "metadata": {},
   "outputs": [
    {
     "data": {
      "text/plain": [
       "((2804, 5), (701, 5), (2804,), (701,))"
      ]
     },
     "execution_count": 11,
     "metadata": {},
     "output_type": "execute_result"
    }
   ],
   "source": [
    "X_train.shape, X_test.shape, y_train.shape, y_test.shape"
   ]
  },
  {
   "cell_type": "code",
   "execution_count": 12,
   "id": "3f9fdbad-47f6-4ada-91dd-2975eba90f2c",
   "metadata": {},
   "outputs": [],
   "source": [
    "scaler = StandardScaler()\n",
    "\n",
    "X_train_scaled = scaler.fit_transform(X_train)\n",
    "X_test_scaled = scaler.fit(X_test)\n"
   ]
  },
  {
   "cell_type": "code",
   "execution_count": null,
   "id": "79a8921f-788a-4780-8e62-031ef6c18e40",
   "metadata": {},
   "outputs": [],
   "source": []
  },
  {
   "cell_type": "markdown",
   "id": "95f1866a-7e74-4d59-a40e-5f786f1f43b8",
   "metadata": {},
   "source": [
    "##### Build the Neural networks"
   ]
  },
  {
   "cell_type": "code",
   "execution_count": 13,
   "id": "6e8a7467",
   "metadata": {},
   "outputs": [
    {
     "data": {
      "text/plain": [
       "(2804, 5)"
      ]
     },
     "execution_count": 13,
     "metadata": {},
     "output_type": "execute_result"
    }
   ],
   "source": [
    "X_train.shape"
   ]
  },
  {
   "cell_type": "code",
   "execution_count": 14,
   "id": "4129bfab",
   "metadata": {},
   "outputs": [
    {
     "name": "stderr",
     "output_type": "stream",
     "text": [
      "C:\\Users\\lily\\anaconda3\\Lib\\site-packages\\keras\\src\\layers\\core\\dense.py:87: UserWarning: Do not pass an `input_shape`/`input_dim` argument to a layer. When using Sequential models, prefer using an `Input(shape)` object as the first layer in the model instead.\n",
      "  super().__init__(activity_regularizer=activity_regularizer, **kwargs)\n"
     ]
    }
   ],
   "source": [
    "model_price = tf.keras.Sequential([\n",
    "    tf.keras.layers.Dense(64, input_shape=(X_train.shape[1],), activation='relu'),  \n",
    "    tf.keras.layers.Dense(32, activation='relu'),\n",
    "    tf.keras.layers.Dense(1, activation='linear')\n",
    "])\n"
   ]
  },
  {
   "cell_type": "markdown",
   "id": "d710f9c0-6bf2-4190-af60-b5081f0eb6c7",
   "metadata": {},
   "source": [
    "##### Compile the neural newtorks"
   ]
  },
  {
   "cell_type": "code",
   "execution_count": 15,
   "id": "3d75ccc3-0c03-49d6-9e55-558276ecc966",
   "metadata": {},
   "outputs": [],
   "source": [
    "model_price.compile(optimizer=Adam(learning_rate=0.01), loss='mse', metrics=[tf.keras.metrics.RootMeanSquaredError()])"
   ]
  },
  {
   "cell_type": "code",
   "execution_count": null,
   "id": "8e111710-9a26-4a44-96d7-135ac3288ef5",
   "metadata": {},
   "outputs": [],
   "source": []
  },
  {
   "cell_type": "markdown",
   "id": "bb961a78-76f8-4af1-b044-ad0ba29d93d5",
   "metadata": {},
   "source": [
    "#### Train the NN"
   ]
  },
  {
   "cell_type": "code",
   "execution_count": 16,
   "id": "d5198436",
   "metadata": {},
   "outputs": [
    {
     "name": "stdout",
     "output_type": "stream",
     "text": [
      "Epoch 1/50\n",
      "\u001b[1m71/71\u001b[0m \u001b[32m━━━━━━━━━━━━━━━━━━━━\u001b[0m\u001b[37m\u001b[0m \u001b[1m2s\u001b[0m 5ms/step - loss: 293288181760.0000 - root_mean_squared_error: 541422.7500 - val_loss: 294304808960.0000 - val_root_mean_squared_error: 542498.6875\n",
      "Epoch 2/50\n",
      "\u001b[1m71/71\u001b[0m \u001b[32m━━━━━━━━━━━━━━━━━━━━\u001b[0m\u001b[37m\u001b[0m \u001b[1m0s\u001b[0m 3ms/step - loss: 306495193088.0000 - root_mean_squared_error: 553479.4375 - val_loss: 271743025152.0000 - val_root_mean_squared_error: 521289.7812\n",
      "Epoch 3/50\n",
      "\u001b[1m71/71\u001b[0m \u001b[32m━━━━━━━━━━━━━━━━━━━━\u001b[0m\u001b[37m\u001b[0m \u001b[1m0s\u001b[0m 3ms/step - loss: 266357047296.0000 - root_mean_squared_error: 515993.2812 - val_loss: 205119520768.0000 - val_root_mean_squared_error: 452901.2188\n",
      "Epoch 4/50\n",
      "\u001b[1m71/71\u001b[0m \u001b[32m━━━━━━━━━━━━━━━━━━━━\u001b[0m\u001b[37m\u001b[0m \u001b[1m0s\u001b[0m 2ms/step - loss: 194579365888.0000 - root_mean_squared_error: 440495.8125 - val_loss: 112242024448.0000 - val_root_mean_squared_error: 335025.4062\n",
      "Epoch 5/50\n",
      "\u001b[1m71/71\u001b[0m \u001b[32m━━━━━━━━━━━━━━━━━━━━\u001b[0m\u001b[37m\u001b[0m \u001b[1m0s\u001b[0m 2ms/step - loss: 99841630208.0000 - root_mean_squared_error: 315077.8438 - val_loss: 55476404224.0000 - val_root_mean_squared_error: 235534.2969\n",
      "Epoch 6/50\n",
      "\u001b[1m71/71\u001b[0m \u001b[32m━━━━━━━━━━━━━━━━━━━━\u001b[0m\u001b[37m\u001b[0m \u001b[1m0s\u001b[0m 2ms/step - loss: 47174299648.0000 - root_mean_squared_error: 217127.4375 - val_loss: 42102837248.0000 - val_root_mean_squared_error: 205189.7656\n",
      "Epoch 7/50\n",
      "\u001b[1m71/71\u001b[0m \u001b[32m━━━━━━━━━━━━━━━━━━━━\u001b[0m\u001b[37m\u001b[0m \u001b[1m0s\u001b[0m 2ms/step - loss: 34117974016.0000 - root_mean_squared_error: 184676.6250 - val_loss: 40144138240.0000 - val_root_mean_squared_error: 200360.0156\n",
      "Epoch 8/50\n",
      "\u001b[1m71/71\u001b[0m \u001b[32m━━━━━━━━━━━━━━━━━━━━\u001b[0m\u001b[37m\u001b[0m \u001b[1m0s\u001b[0m 2ms/step - loss: 29499865088.0000 - root_mean_squared_error: 171601.0781 - val_loss: 41215926272.0000 - val_root_mean_squared_error: 203017.0625\n",
      "Epoch 9/50\n",
      "\u001b[1m71/71\u001b[0m \u001b[32m━━━━━━━━━━━━━━━━━━━━\u001b[0m\u001b[37m\u001b[0m \u001b[1m0s\u001b[0m 2ms/step - loss: 27825979392.0000 - root_mean_squared_error: 166791.1719 - val_loss: 41398321152.0000 - val_root_mean_squared_error: 203465.7812\n",
      "Epoch 10/50\n",
      "\u001b[1m71/71\u001b[0m \u001b[32m━━━━━━━━━━━━━━━━━━━━\u001b[0m\u001b[37m\u001b[0m \u001b[1m0s\u001b[0m 2ms/step - loss: 28399900672.0000 - root_mean_squared_error: 168304.4219 - val_loss: 42864361472.0000 - val_root_mean_squared_error: 207037.1094\n",
      "Epoch 11/50\n",
      "\u001b[1m71/71\u001b[0m \u001b[32m━━━━━━━━━━━━━━━━━━━━\u001b[0m\u001b[37m\u001b[0m \u001b[1m0s\u001b[0m 2ms/step - loss: 24896927744.0000 - root_mean_squared_error: 157708.7969 - val_loss: 41704247296.0000 - val_root_mean_squared_error: 204216.1719\n",
      "Epoch 12/50\n",
      "\u001b[1m71/71\u001b[0m \u001b[32m━━━━━━━━━━━━━━━━━━━━\u001b[0m\u001b[37m\u001b[0m \u001b[1m0s\u001b[0m 2ms/step - loss: 22335186944.0000 - root_mean_squared_error: 149370.4688 - val_loss: 41347608576.0000 - val_root_mean_squared_error: 203341.1094\n",
      "Epoch 13/50\n",
      "\u001b[1m71/71\u001b[0m \u001b[32m━━━━━━━━━━━━━━━━━━━━\u001b[0m\u001b[37m\u001b[0m \u001b[1m0s\u001b[0m 2ms/step - loss: 22379137024.0000 - root_mean_squared_error: 149481.5000 - val_loss: 40381251584.0000 - val_root_mean_squared_error: 200950.8750\n",
      "Epoch 14/50\n",
      "\u001b[1m71/71\u001b[0m \u001b[32m━━━━━━━━━━━━━━━━━━━━\u001b[0m\u001b[37m\u001b[0m \u001b[1m0s\u001b[0m 2ms/step - loss: 23742973952.0000 - root_mean_squared_error: 154006.4219 - val_loss: 40144420864.0000 - val_root_mean_squared_error: 200360.7344\n",
      "Epoch 15/50\n",
      "\u001b[1m71/71\u001b[0m \u001b[32m━━━━━━━━━━━━━━━━━━━━\u001b[0m\u001b[37m\u001b[0m \u001b[1m0s\u001b[0m 2ms/step - loss: 22837465088.0000 - root_mean_squared_error: 151034.9062 - val_loss: 39339548672.0000 - val_root_mean_squared_error: 198342.0000\n",
      "Epoch 16/50\n",
      "\u001b[1m71/71\u001b[0m \u001b[32m━━━━━━━━━━━━━━━━━━━━\u001b[0m\u001b[37m\u001b[0m \u001b[1m0s\u001b[0m 2ms/step - loss: 22086100992.0000 - root_mean_squared_error: 148578.0781 - val_loss: 39696711680.0000 - val_root_mean_squared_error: 199240.3438\n",
      "Epoch 17/50\n",
      "\u001b[1m71/71\u001b[0m \u001b[32m━━━━━━━━━━━━━━━━━━━━\u001b[0m\u001b[37m\u001b[0m \u001b[1m0s\u001b[0m 2ms/step - loss: 22297673728.0000 - root_mean_squared_error: 149256.1094 - val_loss: 38832041984.0000 - val_root_mean_squared_error: 197058.4688\n",
      "Epoch 18/50\n",
      "\u001b[1m71/71\u001b[0m \u001b[32m━━━━━━━━━━━━━━━━━━━━\u001b[0m\u001b[37m\u001b[0m \u001b[1m0s\u001b[0m 2ms/step - loss: 20507856896.0000 - root_mean_squared_error: 143108.3281 - val_loss: 38941233152.0000 - val_root_mean_squared_error: 197335.3281\n",
      "Epoch 19/50\n",
      "\u001b[1m71/71\u001b[0m \u001b[32m━━━━━━━━━━━━━━━━━━━━\u001b[0m\u001b[37m\u001b[0m \u001b[1m0s\u001b[0m 2ms/step - loss: 22688276480.0000 - root_mean_squared_error: 150306.7812 - val_loss: 37915410432.0000 - val_root_mean_squared_error: 194718.7969\n",
      "Epoch 20/50\n",
      "\u001b[1m71/71\u001b[0m \u001b[32m━━━━━━━━━━━━━━━━━━━━\u001b[0m\u001b[37m\u001b[0m \u001b[1m0s\u001b[0m 2ms/step - loss: 20021479424.0000 - root_mean_squared_error: 141389.5938 - val_loss: 38048894976.0000 - val_root_mean_squared_error: 195061.2656\n",
      "Epoch 21/50\n",
      "\u001b[1m71/71\u001b[0m \u001b[32m━━━━━━━━━━━━━━━━━━━━\u001b[0m\u001b[37m\u001b[0m \u001b[1m0s\u001b[0m 2ms/step - loss: 20310165504.0000 - root_mean_squared_error: 142438.9844 - val_loss: 37029502976.0000 - val_root_mean_squared_error: 192430.5156\n",
      "Epoch 22/50\n",
      "\u001b[1m71/71\u001b[0m \u001b[32m━━━━━━━━━━━━━━━━━━━━\u001b[0m\u001b[37m\u001b[0m \u001b[1m0s\u001b[0m 2ms/step - loss: 20310759424.0000 - root_mean_squared_error: 142451.5469 - val_loss: 37050834944.0000 - val_root_mean_squared_error: 192485.9375\n",
      "Epoch 23/50\n",
      "\u001b[1m71/71\u001b[0m \u001b[32m━━━━━━━━━━━━━━━━━━━━\u001b[0m\u001b[37m\u001b[0m \u001b[1m0s\u001b[0m 2ms/step - loss: 20675426304.0000 - root_mean_squared_error: 143757.1875 - val_loss: 37087367168.0000 - val_root_mean_squared_error: 192580.8125\n",
      "Epoch 24/50\n",
      "\u001b[1m71/71\u001b[0m \u001b[32m━━━━━━━━━━━━━━━━━━━━\u001b[0m\u001b[37m\u001b[0m \u001b[1m0s\u001b[0m 2ms/step - loss: 19894040576.0000 - root_mean_squared_error: 140906.6875 - val_loss: 37409947648.0000 - val_root_mean_squared_error: 193416.5156\n",
      "Epoch 25/50\n",
      "\u001b[1m71/71\u001b[0m \u001b[32m━━━━━━━━━━━━━━━━━━━━\u001b[0m\u001b[37m\u001b[0m \u001b[1m0s\u001b[0m 2ms/step - loss: 23171278848.0000 - root_mean_squared_error: 151836.7500 - val_loss: 36852457472.0000 - val_root_mean_squared_error: 191969.9375\n",
      "Epoch 26/50\n",
      "\u001b[1m71/71\u001b[0m \u001b[32m━━━━━━━━━━━━━━━━━━━━\u001b[0m\u001b[37m\u001b[0m \u001b[1m0s\u001b[0m 2ms/step - loss: 20340652032.0000 - root_mean_squared_error: 142582.2344 - val_loss: 37273059328.0000 - val_root_mean_squared_error: 193062.3125\n",
      "Epoch 27/50\n",
      "\u001b[1m71/71\u001b[0m \u001b[32m━━━━━━━━━━━━━━━━━━━━\u001b[0m\u001b[37m\u001b[0m \u001b[1m0s\u001b[0m 2ms/step - loss: 20660580352.0000 - root_mean_squared_error: 143570.8906 - val_loss: 37355646976.0000 - val_root_mean_squared_error: 193276.0938\n",
      "Epoch 28/50\n",
      "\u001b[1m71/71\u001b[0m \u001b[32m━━━━━━━━━━━━━━━━━━━━\u001b[0m\u001b[37m\u001b[0m \u001b[1m0s\u001b[0m 2ms/step - loss: 20579864576.0000 - root_mean_squared_error: 143410.7500 - val_loss: 36582588416.0000 - val_root_mean_squared_error: 191265.7500\n",
      "Epoch 29/50\n",
      "\u001b[1m71/71\u001b[0m \u001b[32m━━━━━━━━━━━━━━━━━━━━\u001b[0m\u001b[37m\u001b[0m \u001b[1m0s\u001b[0m 2ms/step - loss: 20927768576.0000 - root_mean_squared_error: 144635.6406 - val_loss: 36687417344.0000 - val_root_mean_squared_error: 191539.5938\n",
      "Epoch 30/50\n",
      "\u001b[1m71/71\u001b[0m \u001b[32m━━━━━━━━━━━━━━━━━━━━\u001b[0m\u001b[37m\u001b[0m \u001b[1m0s\u001b[0m 2ms/step - loss: 21044367360.0000 - root_mean_squared_error: 145052.1250 - val_loss: 36567248896.0000 - val_root_mean_squared_error: 191225.6562\n",
      "Epoch 31/50\n",
      "\u001b[1m71/71\u001b[0m \u001b[32m━━━━━━━━━━━━━━━━━━━━\u001b[0m\u001b[37m\u001b[0m \u001b[1m0s\u001b[0m 2ms/step - loss: 21190799360.0000 - root_mean_squared_error: 145417.5312 - val_loss: 36597022720.0000 - val_root_mean_squared_error: 191303.4844\n",
      "Epoch 32/50\n",
      "\u001b[1m71/71\u001b[0m \u001b[32m━━━━━━━━━━━━━━━━━━━━\u001b[0m\u001b[37m\u001b[0m \u001b[1m0s\u001b[0m 2ms/step - loss: 22070190080.0000 - root_mean_squared_error: 148191.7031 - val_loss: 36919169024.0000 - val_root_mean_squared_error: 192143.6094\n",
      "Epoch 33/50\n",
      "\u001b[1m71/71\u001b[0m \u001b[32m━━━━━━━━━━━━━━━━━━━━\u001b[0m\u001b[37m\u001b[0m \u001b[1m0s\u001b[0m 2ms/step - loss: 18657994752.0000 - root_mean_squared_error: 136383.0156 - val_loss: 36792020992.0000 - val_root_mean_squared_error: 191812.4688\n",
      "Epoch 34/50\n",
      "\u001b[1m71/71\u001b[0m \u001b[32m━━━━━━━━━━━━━━━━━━━━\u001b[0m\u001b[37m\u001b[0m \u001b[1m0s\u001b[0m 2ms/step - loss: 19736129536.0000 - root_mean_squared_error: 140425.3125 - val_loss: 36165492736.0000 - val_root_mean_squared_error: 190172.2656\n",
      "Epoch 35/50\n",
      "\u001b[1m71/71\u001b[0m \u001b[32m━━━━━━━━━━━━━━━━━━━━\u001b[0m\u001b[37m\u001b[0m \u001b[1m0s\u001b[0m 2ms/step - loss: 20570144768.0000 - root_mean_squared_error: 143373.7969 - val_loss: 35655593984.0000 - val_root_mean_squared_error: 188826.8906\n",
      "Epoch 36/50\n",
      "\u001b[1m71/71\u001b[0m \u001b[32m━━━━━━━━━━━━━━━━━━━━\u001b[0m\u001b[37m\u001b[0m \u001b[1m0s\u001b[0m 2ms/step - loss: 19801319424.0000 - root_mean_squared_error: 140552.1875 - val_loss: 35995025408.0000 - val_root_mean_squared_error: 189723.5469\n",
      "Epoch 37/50\n",
      "\u001b[1m71/71\u001b[0m \u001b[32m━━━━━━━━━━━━━━━━━━━━\u001b[0m\u001b[37m\u001b[0m \u001b[1m0s\u001b[0m 2ms/step - loss: 20133419008.0000 - root_mean_squared_error: 141844.4531 - val_loss: 36119797760.0000 - val_root_mean_squared_error: 190052.0938\n",
      "Epoch 38/50\n",
      "\u001b[1m71/71\u001b[0m \u001b[32m━━━━━━━━━━━━━━━━━━━━\u001b[0m\u001b[37m\u001b[0m \u001b[1m0s\u001b[0m 2ms/step - loss: 20382310400.0000 - root_mean_squared_error: 142742.7188 - val_loss: 36604456960.0000 - val_root_mean_squared_error: 191322.9062\n",
      "Epoch 39/50\n",
      "\u001b[1m71/71\u001b[0m \u001b[32m━━━━━━━━━━━━━━━━━━━━\u001b[0m\u001b[37m\u001b[0m \u001b[1m0s\u001b[0m 1ms/step - loss: 21391026176.0000 - root_mean_squared_error: 146155.3125 - val_loss: 35634614272.0000 - val_root_mean_squared_error: 188771.3281\n",
      "Epoch 40/50\n",
      "\u001b[1m71/71\u001b[0m \u001b[32m━━━━━━━━━━━━━━━━━━━━\u001b[0m\u001b[37m\u001b[0m \u001b[1m0s\u001b[0m 2ms/step - loss: 20583618560.0000 - root_mean_squared_error: 143412.6875 - val_loss: 36025196544.0000 - val_root_mean_squared_error: 189803.0469\n",
      "Epoch 41/50\n",
      "\u001b[1m71/71\u001b[0m \u001b[32m━━━━━━━━━━━━━━━━━━━━\u001b[0m\u001b[37m\u001b[0m \u001b[1m0s\u001b[0m 2ms/step - loss: 20632418304.0000 - root_mean_squared_error: 143600.7500 - val_loss: 36758609920.0000 - val_root_mean_squared_error: 191725.3438\n",
      "Epoch 42/50\n",
      "\u001b[1m71/71\u001b[0m \u001b[32m━━━━━━━━━━━━━━━━━━━━\u001b[0m\u001b[37m\u001b[0m \u001b[1m0s\u001b[0m 2ms/step - loss: 20012187648.0000 - root_mean_squared_error: 141431.0625 - val_loss: 36885827584.0000 - val_root_mean_squared_error: 192056.8281\n",
      "Epoch 43/50\n",
      "\u001b[1m71/71\u001b[0m \u001b[32m━━━━━━━━━━━━━━━━━━━━\u001b[0m\u001b[37m\u001b[0m \u001b[1m0s\u001b[0m 3ms/step - loss: 21323196416.0000 - root_mean_squared_error: 145925.1875 - val_loss: 35500408832.0000 - val_root_mean_squared_error: 188415.5156\n",
      "Epoch 44/50\n",
      "\u001b[1m71/71\u001b[0m \u001b[32m━━━━━━━━━━━━━━━━━━━━\u001b[0m\u001b[37m\u001b[0m \u001b[1m0s\u001b[0m 2ms/step - loss: 19414179840.0000 - root_mean_squared_error: 139242.1875 - val_loss: 36477583360.0000 - val_root_mean_squared_error: 190991.0625\n",
      "Epoch 45/50\n",
      "\u001b[1m71/71\u001b[0m \u001b[32m━━━━━━━━━━━━━━━━━━━━\u001b[0m\u001b[37m\u001b[0m \u001b[1m0s\u001b[0m 1ms/step - loss: 20304302080.0000 - root_mean_squared_error: 142483.0625 - val_loss: 35592138752.0000 - val_root_mean_squared_error: 188658.7969\n",
      "Epoch 46/50\n",
      "\u001b[1m71/71\u001b[0m \u001b[32m━━━━━━━━━━━━━━━━━━━━\u001b[0m\u001b[37m\u001b[0m \u001b[1m0s\u001b[0m 2ms/step - loss: 19513849856.0000 - root_mean_squared_error: 139550.4531 - val_loss: 35800907776.0000 - val_root_mean_squared_error: 189211.2812\n",
      "Epoch 47/50\n",
      "\u001b[1m71/71\u001b[0m \u001b[32m━━━━━━━━━━━━━━━━━━━━\u001b[0m\u001b[37m\u001b[0m \u001b[1m0s\u001b[0m 2ms/step - loss: 21570932736.0000 - root_mean_squared_error: 146769.8281 - val_loss: 35564871680.0000 - val_root_mean_squared_error: 188586.5156\n",
      "Epoch 48/50\n",
      "\u001b[1m71/71\u001b[0m \u001b[32m━━━━━━━━━━━━━━━━━━━━\u001b[0m\u001b[37m\u001b[0m \u001b[1m0s\u001b[0m 1ms/step - loss: 18775572480.0000 - root_mean_squared_error: 136805.2500 - val_loss: 36662611968.0000 - val_root_mean_squared_error: 191474.8281\n",
      "Epoch 49/50\n",
      "\u001b[1m71/71\u001b[0m \u001b[32m━━━━━━━━━━━━━━━━━━━━\u001b[0m\u001b[37m\u001b[0m \u001b[1m0s\u001b[0m 2ms/step - loss: 20352927744.0000 - root_mean_squared_error: 142633.2344 - val_loss: 35674075136.0000 - val_root_mean_squared_error: 188875.8125\n",
      "Epoch 50/50\n",
      "\u001b[1m71/71\u001b[0m \u001b[32m━━━━━━━━━━━━━━━━━━━━\u001b[0m\u001b[37m\u001b[0m \u001b[1m0s\u001b[0m 2ms/step - loss: 19633516544.0000 - root_mean_squared_error: 140093.1250 - val_loss: 35309162496.0000 - val_root_mean_squared_error: 187907.3281\n"
     ]
    }
   ],
   "source": [
    "hist = model_price.fit(X_train_scaled, y_train, epochs=50, batch_size=32, validation_split=0.2) "
   ]
  },
  {
   "cell_type": "code",
   "execution_count": 17,
   "id": "be2ab5f4-d8fe-4787-b732-0039d6709f6a",
   "metadata": {},
   "outputs": [
    {
     "data": {
      "text/html": [
       "<div>\n",
       "<style scoped>\n",
       "    .dataframe tbody tr th:only-of-type {\n",
       "        vertical-align: middle;\n",
       "    }\n",
       "\n",
       "    .dataframe tbody tr th {\n",
       "        vertical-align: top;\n",
       "    }\n",
       "\n",
       "    .dataframe thead th {\n",
       "        text-align: right;\n",
       "    }\n",
       "</style>\n",
       "<table border=\"1\" class=\"dataframe\">\n",
       "  <thead>\n",
       "    <tr style=\"text-align: right;\">\n",
       "      <th></th>\n",
       "      <th>loss</th>\n",
       "      <th>root_mean_squared_error</th>\n",
       "      <th>val_loss</th>\n",
       "      <th>val_root_mean_squared_error</th>\n",
       "    </tr>\n",
       "  </thead>\n",
       "  <tbody>\n",
       "    <tr>\n",
       "      <th>0</th>\n",
       "      <td>300854542336.00</td>\n",
       "      <td>548502.06</td>\n",
       "      <td>294304808960.00</td>\n",
       "      <td>542498.69</td>\n",
       "    </tr>\n",
       "    <tr>\n",
       "      <th>1</th>\n",
       "      <td>291429416960.00</td>\n",
       "      <td>539842.00</td>\n",
       "      <td>271743025152.00</td>\n",
       "      <td>521289.78</td>\n",
       "    </tr>\n",
       "    <tr>\n",
       "      <th>2</th>\n",
       "      <td>248489525248.00</td>\n",
       "      <td>498487.25</td>\n",
       "      <td>205119520768.00</td>\n",
       "      <td>452901.22</td>\n",
       "    </tr>\n",
       "    <tr>\n",
       "      <th>3</th>\n",
       "      <td>164206379008.00</td>\n",
       "      <td>405223.88</td>\n",
       "      <td>112242024448.00</td>\n",
       "      <td>335025.41</td>\n",
       "    </tr>\n",
       "    <tr>\n",
       "      <th>4</th>\n",
       "      <td>80596475904.00</td>\n",
       "      <td>283895.19</td>\n",
       "      <td>55476404224.00</td>\n",
       "      <td>235534.30</td>\n",
       "    </tr>\n",
       "  </tbody>\n",
       "</table>\n",
       "</div>"
      ],
      "text/plain": [
       "             loss  root_mean_squared_error        val_loss  \\\n",
       "0 300854542336.00                548502.06 294304808960.00   \n",
       "1 291429416960.00                539842.00 271743025152.00   \n",
       "2 248489525248.00                498487.25 205119520768.00   \n",
       "3 164206379008.00                405223.88 112242024448.00   \n",
       "4  80596475904.00                283895.19  55476404224.00   \n",
       "\n",
       "   val_root_mean_squared_error  \n",
       "0                    542498.69  \n",
       "1                    521289.78  \n",
       "2                    452901.22  \n",
       "3                    335025.41  \n",
       "4                    235534.30  "
      ]
     },
     "execution_count": 17,
     "metadata": {},
     "output_type": "execute_result"
    }
   ],
   "source": [
    "history_df = pd.DataFrame(hist.history)\n",
    "history_df.head()"
   ]
  },
  {
   "cell_type": "code",
   "execution_count": null,
   "id": "91e922e4-8caa-4211-82ee-dcd602452d60",
   "metadata": {},
   "outputs": [],
   "source": []
  },
  {
   "cell_type": "markdown",
   "id": "ce656219-4fbc-4a85-b540-e98628845770",
   "metadata": {},
   "source": [
    "##### Evaluate the neural networks"
   ]
  },
  {
   "cell_type": "code",
   "execution_count": 18,
   "id": "2be0bfdd",
   "metadata": {},
   "outputs": [
    {
     "name": "stdout",
     "output_type": "stream",
     "text": [
      "\u001b[1m22/22\u001b[0m \u001b[32m━━━━━━━━━━━━━━━━━━━━\u001b[0m\u001b[37m\u001b[0m \u001b[1m0s\u001b[0m 3ms/step\n"
     ]
    }
   ],
   "source": [
    "preds_price = model_price.predict(X_test)"
   ]
  },
  {
   "cell_type": "code",
   "execution_count": 19,
   "id": "4b29b487",
   "metadata": {},
   "outputs": [
    {
     "data": {
      "text/plain": [
       "-6089.716851831292"
      ]
     },
     "execution_count": 19,
     "metadata": {},
     "output_type": "execute_result"
    }
   ],
   "source": [
    "r2_score(y_test, preds_price)"
   ]
  },
  {
   "cell_type": "code",
   "execution_count": 20,
   "id": "4b25a59b-ec69-4045-98f7-62e82d877ea6",
   "metadata": {},
   "outputs": [
    {
     "data": {
      "text/plain": [
       "18863376.79207956"
      ]
     },
     "execution_count": 20,
     "metadata": {},
     "output_type": "execute_result"
    }
   ],
   "source": [
    "mse_dl = mean_squared_error(y_test, preds_price)\n",
    "rmse_dl = np.sqrt(mse_dl)\n",
    "rmse_dl"
   ]
  },
  {
   "cell_type": "markdown",
   "id": "392013a7-e03a-4364-82e8-cd26ab609afc",
   "metadata": {},
   "source": [
    "##### Visualize the outputs"
   ]
  },
  {
   "cell_type": "code",
   "execution_count": 21,
   "id": "1e2c909c",
   "metadata": {},
   "outputs": [
    {
     "data": {
      "image/png": "[encoded data removed]",
      "text/plain": [
       "<Figure size 640x480 with 1 Axes>"
      ]
     },
     "metadata": {},
     "output_type": "display_data"
    }
   ],
   "source": [
    "plt.plot([i for i in range(len(y_test))], y_test)\n",
    "plt.plot([i for i in range(len(y_test))], preds_price)\n",
    "plt.yscale('linear')  \n",
    "plt.gca().yaxis.set_major_formatter(ticker.FuncFormatter(lambda x, _: f'{x:.0f}'))\n",
    "plt.show()"
   ]
  },
  {
   "cell_type": "code",
   "execution_count": null,
   "id": "7042f2ff",
   "metadata": {},
   "outputs": [],
   "source": []
  },
  {
   "cell_type": "code",
   "execution_count": null,
   "id": "8b7c7811-7b1f-499a-a540-a0372c81723b",
   "metadata": {},
   "outputs": [],
   "source": []
  },
  {
   "cell_type": "markdown",
   "id": "4ed82efe",
   "metadata": {},
   "source": [
    "#### Adding 3 hiden layers"
   ]
  },
  {
   "cell_type": "code",
   "execution_count": 22,
   "id": "fc7c919e",
   "metadata": {},
   "outputs": [
    {
     "name": "stderr",
     "output_type": "stream",
     "text": [
      "C:\\Users\\lily\\anaconda3\\Lib\\site-packages\\keras\\src\\layers\\core\\dense.py:87: UserWarning: Do not pass an `input_shape`/`input_dim` argument to a layer. When using Sequential models, prefer using an `Input(shape)` object as the first layer in the model instead.\n",
      "  super().__init__(activity_regularizer=activity_regularizer, **kwargs)\n"
     ]
    }
   ],
   "source": [
    "model_price02 = tf.keras.Sequential([\n",
    "    tf.keras.layers.Dense(64, input_shape=(X_train.shape[1],), activation='relu'),    \n",
    "    tf.keras.layers.Dense(32, activation='relu'),\n",
    "    tf.keras.layers.Dense(32, activation='relu'),\n",
    "    tf.keras.layers.Dense(1, activation='linear')\n",
    "])"
   ]
  },
  {
   "cell_type": "code",
   "execution_count": 23,
   "id": "599a02b4",
   "metadata": {},
   "outputs": [],
   "source": [
    "model_price02.compile(optimizer=Adam(learning_rate=0.01), loss='mse', metrics=[tf.keras.metrics.RootMeanSquaredError()])"
   ]
  },
  {
   "cell_type": "markdown",
   "id": "c5c8061e-1c09-4502-8378-2990207460cd",
   "metadata": {},
   "source": [
    "#### Implementation of Early Stopping"
   ]
  },
  {
   "cell_type": "code",
   "execution_count": 24,
   "id": "4da91c5b-4eaa-42ee-b2b4-fd23e751fc23",
   "metadata": {},
   "outputs": [],
   "source": [
    "early_stopping = EarlyStopping(monitor='val_loss', patience=5, min_delta=0.001, restore_best_weights=True)"
   ]
  },
  {
   "cell_type": "code",
   "execution_count": 25,
   "id": "9a9b66fc",
   "metadata": {},
   "outputs": [
    {
     "name": "stdout",
     "output_type": "stream",
     "text": [
      "Epoch 1/300\n",
      "\u001b[1m88/88\u001b[0m \u001b[32m━━━━━━━━━━━━━━━━━━━━\u001b[0m\u001b[37m\u001b[0m \u001b[1m1s\u001b[0m 4ms/step - loss: 300477841408.0000 - root_mean_squared_error: 548081.6250 - val_loss: 24026743308288.0000 - val_root_mean_squared_error: 4901708.0000\n",
      "Epoch 2/300\n",
      "\u001b[1m88/88\u001b[0m \u001b[32m━━━━━━━━━━━━━━━━━━━━\u001b[0m\u001b[37m\u001b[0m \u001b[1m0s\u001b[0m 2ms/step - loss: 115053002752.0000 - root_mean_squared_error: 334508.7812 - val_loss: 414514407276544.0000 - val_root_mean_squared_error: 20359626.0000\n",
      "Epoch 3/300\n",
      "\u001b[1m88/88\u001b[0m \u001b[32m━━━━━━━━━━━━━━━━━━━━\u001b[0m\u001b[37m\u001b[0m \u001b[1m0s\u001b[0m 2ms/step - loss: 29060560896.0000 - root_mean_squared_error: 170388.1094 - val_loss: 331421923147776.0000 - val_root_mean_squared_error: 18204998.0000\n",
      "Epoch 4/300\n",
      "\u001b[1m88/88\u001b[0m \u001b[32m━━━━━━━━━━━━━━━━━━━━\u001b[0m\u001b[37m\u001b[0m \u001b[1m0s\u001b[0m 2ms/step - loss: 28391186432.0000 - root_mean_squared_error: 168134.4219 - val_loss: 331245091291136.0000 - val_root_mean_squared_error: 18200140.0000\n",
      "Epoch 5/300\n",
      "\u001b[1m88/88\u001b[0m \u001b[32m━━━━━━━━━━━━━━━━━━━━\u001b[0m\u001b[37m\u001b[0m \u001b[1m0s\u001b[0m 2ms/step - loss: 24061591552.0000 - root_mean_squared_error: 154993.7656 - val_loss: 301148946825216.0000 - val_root_mean_squared_error: 17353644.0000\n",
      "Epoch 6/300\n",
      "\u001b[1m88/88\u001b[0m \u001b[32m━━━━━━━━━━━━━━━━━━━━\u001b[0m\u001b[37m\u001b[0m \u001b[1m0s\u001b[0m 2ms/step - loss: 22160273408.0000 - root_mean_squared_error: 148710.0781 - val_loss: 297433699450880.0000 - val_root_mean_squared_error: 17246266.0000\n"
     ]
    }
   ],
   "source": [
    "history2 = model_price02.fit(X_train_scaled, y_train,\n",
    "                    epochs=300,\n",
    "                    batch_size=32,\n",
    "                    validation_data=(X_test, y_test),\n",
    "                    callbacks=[early_stopping],\n",
    "                    verbose=1)"
   ]
  },
  {
   "cell_type": "code",
   "execution_count": 26,
   "id": "8b43b912-cb68-45cc-8da4-e5dc90e79c4a",
   "metadata": {},
   "outputs": [
    {
     "data": {
      "text/html": [
       "<div>\n",
       "<style scoped>\n",
       "    .dataframe tbody tr th:only-of-type {\n",
       "        vertical-align: middle;\n",
       "    }\n",
       "\n",
       "    .dataframe tbody tr th {\n",
       "        vertical-align: top;\n",
       "    }\n",
       "\n",
       "    .dataframe thead th {\n",
       "        text-align: right;\n",
       "    }\n",
       "</style>\n",
       "<table border=\"1\" class=\"dataframe\">\n",
       "  <thead>\n",
       "    <tr style=\"text-align: right;\">\n",
       "      <th></th>\n",
       "      <th>loss</th>\n",
       "      <th>root_mean_squared_error</th>\n",
       "      <th>val_loss</th>\n",
       "      <th>val_root_mean_squared_error</th>\n",
       "    </tr>\n",
       "  </thead>\n",
       "  <tbody>\n",
       "    <tr>\n",
       "      <th>0</th>\n",
       "      <td>285943267328.00</td>\n",
       "      <td>534736.62</td>\n",
       "      <td>24026743308288.00</td>\n",
       "      <td>4901708.00</td>\n",
       "    </tr>\n",
       "    <tr>\n",
       "      <th>1</th>\n",
       "      <td>69384142848.00</td>\n",
       "      <td>263408.69</td>\n",
       "      <td>414514407276544.00</td>\n",
       "      <td>20359626.00</td>\n",
       "    </tr>\n",
       "    <tr>\n",
       "      <th>2</th>\n",
       "      <td>30620426240.00</td>\n",
       "      <td>174986.94</td>\n",
       "      <td>331421923147776.00</td>\n",
       "      <td>18204998.00</td>\n",
       "    </tr>\n",
       "    <tr>\n",
       "      <th>3</th>\n",
       "      <td>25156362240.00</td>\n",
       "      <td>158607.58</td>\n",
       "      <td>331245091291136.00</td>\n",
       "      <td>18200140.00</td>\n",
       "    </tr>\n",
       "    <tr>\n",
       "      <th>4</th>\n",
       "      <td>23792584704.00</td>\n",
       "      <td>154248.45</td>\n",
       "      <td>301148946825216.00</td>\n",
       "      <td>17353644.00</td>\n",
       "    </tr>\n",
       "  </tbody>\n",
       "</table>\n",
       "</div>"
      ],
      "text/plain": [
       "             loss  root_mean_squared_error           val_loss  \\\n",
       "0 285943267328.00                534736.62  24026743308288.00   \n",
       "1  69384142848.00                263408.69 414514407276544.00   \n",
       "2  30620426240.00                174986.94 331421923147776.00   \n",
       "3  25156362240.00                158607.58 331245091291136.00   \n",
       "4  23792584704.00                154248.45 301148946825216.00   \n",
       "\n",
       "   val_root_mean_squared_error  \n",
       "0                   4901708.00  \n",
       "1                  20359626.00  \n",
       "2                  18204998.00  \n",
       "3                  18200140.00  \n",
       "4                  17353644.00  "
      ]
     },
     "execution_count": 26,
     "metadata": {},
     "output_type": "execute_result"
    }
   ],
   "source": [
    "history_df02 = pd.DataFrame(history2.history)\n",
    "history_df02.head()"
   ]
  },
  {
   "cell_type": "markdown",
   "id": "651b2869-4947-40be-b02d-f1b3e2415504",
   "metadata": {},
   "source": [
    "*Comment: slight increase in model's performance, hyperparameter tuning will be required*"
   ]
  },
  {
   "cell_type": "code",
   "execution_count": null,
   "id": "1ccb8801-3475-4ccd-9950-b23c184d69f1",
   "metadata": {},
   "outputs": [],
   "source": []
  },
  {
   "cell_type": "markdown",
   "id": "fe4dd410-c8b1-4d87-b3cf-c7f19112be3c",
   "metadata": {},
   "source": [
    "#### Implementation of Dropout"
   ]
  },
  {
   "cell_type": "code",
   "execution_count": 27,
   "id": "a10e329b-1f28-42cc-aae3-4db4fa977be7",
   "metadata": {},
   "outputs": [
    {
     "name": "stderr",
     "output_type": "stream",
     "text": [
      "C:\\Users\\lily\\anaconda3\\Lib\\site-packages\\keras\\src\\layers\\core\\dense.py:87: UserWarning: Do not pass an `input_shape`/`input_dim` argument to a layer. When using Sequential models, prefer using an `Input(shape)` object as the first layer in the model instead.\n",
      "  super().__init__(activity_regularizer=activity_regularizer, **kwargs)\n"
     ]
    }
   ],
   "source": [
    "model_price03 = tf.keras.Sequential([\n",
    "    tf.keras.layers.Dense(64, input_shape=(X_train.shape[1],), activation='relu'),  \n",
    "    tf.keras.layers.Dropout(0.5),  \n",
    "    tf.keras.layers.Dense(32, activation='relu'),\n",
    "    tf.keras.layers.Dropout(0.5),  \n",
    "    tf.keras.layers.Dense(32, activation='relu'),\n",
    "    tf.keras.layers.Dropout(0.5),  \n",
    "    tf.keras.layers.Dense(1, activation='linear')\n",
    "])"
   ]
  },
  {
   "cell_type": "code",
   "execution_count": 28,
   "id": "05d72501-305e-4d1c-aade-7484570646fe",
   "metadata": {},
   "outputs": [],
   "source": [
    "model_price03.compile(optimizer=Adam(learning_rate=0.01), loss='mse', metrics=[tf.keras.metrics.RootMeanSquaredError()])"
   ]
  },
  {
   "cell_type": "code",
   "execution_count": 29,
   "id": "49c4d794-3b29-4875-820c-244943b6ffff",
   "metadata": {},
   "outputs": [
    {
     "name": "stdout",
     "output_type": "stream",
     "text": [
      "Epoch 1/300\n",
      "\u001b[1m88/88\u001b[0m \u001b[32m━━━━━━━━━━━━━━━━━━━━\u001b[0m\u001b[37m\u001b[0m \u001b[1m2s\u001b[0m 3ms/step - loss: 300004999168.0000 - root_mean_squared_error: 547632.7500 - val_loss: 26434433187840.0000 - val_root_mean_squared_error: 5141442.5000\n",
      "Epoch 2/300\n",
      "\u001b[1m88/88\u001b[0m \u001b[32m━━━━━━━━━━━━━━━━━━━━\u001b[0m\u001b[37m\u001b[0m \u001b[1m0s\u001b[0m 2ms/step - loss: 108620660736.0000 - root_mean_squared_error: 326495.9688 - val_loss: 341478354190336.0000 - val_root_mean_squared_error: 18479132.0000\n",
      "Epoch 3/300\n",
      "\u001b[1m88/88\u001b[0m \u001b[32m━━━━━━━━━━━━━━━━━━━━\u001b[0m\u001b[37m\u001b[0m \u001b[1m0s\u001b[0m 2ms/step - loss: 51864317952.0000 - root_mean_squared_error: 227682.5625 - val_loss: 251779270836224.0000 - val_root_mean_squared_error: 15867554.0000\n",
      "Epoch 4/300\n",
      "\u001b[1m88/88\u001b[0m \u001b[32m━━━━━━━━━━━━━━━━━━━━\u001b[0m\u001b[37m\u001b[0m \u001b[1m0s\u001b[0m 2ms/step - loss: 50080444416.0000 - root_mean_squared_error: 223487.9375 - val_loss: 219895027466240.0000 - val_root_mean_squared_error: 14828858.0000\n",
      "Epoch 5/300\n",
      "\u001b[1m88/88\u001b[0m \u001b[32m━━━━━━━━━━━━━━━━━━━━\u001b[0m\u001b[37m\u001b[0m \u001b[1m0s\u001b[0m 2ms/step - loss: 48646049792.0000 - root_mean_squared_error: 220460.7031 - val_loss: 187686765723648.0000 - val_root_mean_squared_error: 13699882.0000\n"
     ]
    }
   ],
   "source": [
    "history3 = model_price03.fit(X_train_scaled, y_train,\n",
    "                    epochs=300,\n",
    "                    batch_size=32,\n",
    "                    validation_data=(X_test, y_test),\n",
    "                    callbacks=[early_stopping],\n",
    "                    verbose=1)"
   ]
  },
  {
   "cell_type": "code",
   "execution_count": 30,
   "id": "2a6cbf25-5440-4d6c-b78f-b9b9699e311b",
   "metadata": {},
   "outputs": [
    {
     "data": {
      "text/html": [
       "<div>\n",
       "<style scoped>\n",
       "    .dataframe tbody tr th:only-of-type {\n",
       "        vertical-align: middle;\n",
       "    }\n",
       "\n",
       "    .dataframe tbody tr th {\n",
       "        vertical-align: top;\n",
       "    }\n",
       "\n",
       "    .dataframe thead th {\n",
       "        text-align: right;\n",
       "    }\n",
       "</style>\n",
       "<table border=\"1\" class=\"dataframe\">\n",
       "  <thead>\n",
       "    <tr style=\"text-align: right;\">\n",
       "      <th></th>\n",
       "      <th>loss</th>\n",
       "      <th>root_mean_squared_error</th>\n",
       "      <th>val_loss</th>\n",
       "      <th>val_root_mean_squared_error</th>\n",
       "    </tr>\n",
       "  </thead>\n",
       "  <tbody>\n",
       "    <tr>\n",
       "      <th>0</th>\n",
       "      <td>280745082880.00</td>\n",
       "      <td>529853.81</td>\n",
       "      <td>26434433187840.00</td>\n",
       "      <td>5141442.50</td>\n",
       "    </tr>\n",
       "    <tr>\n",
       "      <th>1</th>\n",
       "      <td>76248039424.00</td>\n",
       "      <td>276130.47</td>\n",
       "      <td>341478354190336.00</td>\n",
       "      <td>18479132.00</td>\n",
       "    </tr>\n",
       "    <tr>\n",
       "      <th>2</th>\n",
       "      <td>52345520128.00</td>\n",
       "      <td>228791.44</td>\n",
       "      <td>251779270836224.00</td>\n",
       "      <td>15867554.00</td>\n",
       "    </tr>\n",
       "    <tr>\n",
       "      <th>3</th>\n",
       "      <td>51985113088.00</td>\n",
       "      <td>228002.44</td>\n",
       "      <td>219895027466240.00</td>\n",
       "      <td>14828858.00</td>\n",
       "    </tr>\n",
       "    <tr>\n",
       "      <th>4</th>\n",
       "      <td>48181436416.00</td>\n",
       "      <td>219502.70</td>\n",
       "      <td>187686765723648.00</td>\n",
       "      <td>13699882.00</td>\n",
       "    </tr>\n",
       "  </tbody>\n",
       "</table>\n",
       "</div>"
      ],
      "text/plain": [
       "             loss  root_mean_squared_error           val_loss  \\\n",
       "0 280745082880.00                529853.81  26434433187840.00   \n",
       "1  76248039424.00                276130.47 341478354190336.00   \n",
       "2  52345520128.00                228791.44 251779270836224.00   \n",
       "3  51985113088.00                228002.44 219895027466240.00   \n",
       "4  48181436416.00                219502.70 187686765723648.00   \n",
       "\n",
       "   val_root_mean_squared_error  \n",
       "0                   5141442.50  \n",
       "1                  18479132.00  \n",
       "2                  15867554.00  \n",
       "3                  14828858.00  \n",
       "4                  13699882.00  "
      ]
     },
     "execution_count": 30,
     "metadata": {},
     "output_type": "execute_result"
    }
   ],
   "source": [
    "history_df03 = pd.DataFrame(history3.history)\n",
    "history_df03.head()"
   ]
  },
  {
   "cell_type": "markdown",
   "id": "a67f2376-4036-404a-9196-7cbbc0456981",
   "metadata": {},
   "source": [
    "*Comment: Application of Dropout made the model worse, so will tune the hyperparameters for the second model.*"
   ]
  },
  {
   "cell_type": "code",
   "execution_count": null,
   "id": "b4ab9dbd-c4ff-4777-89c0-2373f7195a55",
   "metadata": {},
   "outputs": [],
   "source": []
  },
  {
   "cell_type": "markdown",
   "id": "5be4c954-0cb0-4d16-b23f-a4e613e01ec8",
   "metadata": {},
   "source": [
    "#### Hyperparameter tuning"
   ]
  },
  {
   "cell_type": "code",
   "execution_count": 31,
   "id": "d9e619da-4b15-4b9d-aef5-9c99ad435c36",
   "metadata": {},
   "outputs": [],
   "source": [
    "scaler = StandardScaler()\n",
    "X_train_scaled = scaler.fit_transform(X_train)\n",
    "X_test_scaled = scaler.transform(X_test)"
   ]
  },
  {
   "cell_type": "code",
   "execution_count": 32,
   "id": "3b2b1e27-d2fd-4c84-93cd-47f6a081e5ab",
   "metadata": {},
   "outputs": [],
   "source": [
    "def build_model(hp):\n",
    "    model = Sequential()\n",
    "    model.add(Input(shape=(X_train_scaled.shape[1],)))\n",
    "\n",
    "    for i in range(hp.Int('num_layers', 1, 5)):\n",
    "        model.add(Dense(units=hp.Int('units_' + str(i), min_value=32, max_value=512, step=32), \n",
    "                        activation='relu'))\n",
    "        model.add(Dropout(rate=hp.Float('dropout_' + str(i), min_value=0.0, max_value=0.5, step=0.1)))\n",
    "    \n",
    "    model.add(Dense(1, activation='linear'))\n",
    "\n",
    "    model.compile(optimizer=tf.keras.optimizers.Adam(\n",
    "                      learning_rate=hp.Choice('learning_rate', values=[1e-4, 1e-3, 1e-2])),\n",
    "                  loss='mean_squared_error',\n",
    "                  metrics=[tf.keras.metrics.RootMeanSquaredError()])\n",
    "    \n",
    "    return model"
   ]
  },
  {
   "cell_type": "code",
   "execution_count": 33,
   "id": "3e6eafec-616e-4032-8719-10f22f810f3b",
   "metadata": {},
   "outputs": [
    {
     "name": "stdout",
     "output_type": "stream",
     "text": [
      "Reloading Tuner from my_dir\\intro_to_kt\\tuner0.json\n"
     ]
    }
   ],
   "source": [
    "tuner = kt.RandomSearch(\n",
    "    build_model,\n",
    "    objective='val_root_mean_squared_error',\n",
    "    max_trials=10,\n",
    "    executions_per_trial=1,\n",
    "    directory='my_dir',\n",
    "    project_name='intro_to_kt'\n",
    ")\n",
    "\n",
    "tuner.search(X_train_scaled, y_train,\n",
    "             epochs=50,\n",
    "             batch_size=32,\n",
    "             validation_data=(X_test_scaled, y_test))"
   ]
  },
  {
   "cell_type": "markdown",
   "id": "409d388a-36f5-471a-81e3-8a57ecc7704a",
   "metadata": {},
   "source": [
    "*Comment: The best RMSE of 146,355.5625 is significantly lower than the RMSE of the 10th trial (552,191.3125), suggesting that the hyperparameters chosen in this trial did not perform as well as those in the trial that produced the best RMSE.*"
   ]
  },
  {
   "cell_type": "code",
   "execution_count": null,
   "id": "2c709234",
   "metadata": {},
   "outputs": [],
   "source": []
  }
 ],
 "metadata": {
  "kernelspec": {
   "display_name": "Python 3 (ipykernel)",
   "language": "python",
   "name": "python3"
  },
  "language_info": {
   "codemirror_mode": {
    "name": "ipython",
    "version": 3
   },
   "file_extension": ".py",
   "mimetype": "text/x-python",
   "name": "python",
   "nbconvert_exporter": "python",
   "pygments_lexer": "ipython3",
   "version": "3.11.9"
  }
 },
 "nbformat": 4,
 "nbformat_minor": 5
}
