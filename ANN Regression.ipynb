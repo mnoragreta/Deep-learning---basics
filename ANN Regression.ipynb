{
 "cells": [
  {
   "cell_type": "markdown",
   "id": "068b53e4",
   "metadata": {},
   "source": [
    "# Neural Networks Regression"
   ]
  },
  {
   "cell_type": "code",
   "execution_count": 77,
   "id": "c26874fc-a240-4c71-9b61-d9e35c3792a2",
   "metadata": {},
   "outputs": [],
   "source": [
    "import pandas as pd\n",
    "import numpy as np\n",
    "import matplotlib.pyplot as plt\n",
    "import tensorflow as tf\n",
    "import sklearn\n",
    "from keras.layers import InputLayer , Dense\n",
    "from keras.models import Sequential\n",
    "from keras.layers import Dense\n",
    "from keras.optimizers import Adam\n",
    "from sklearn.metrics import make_scorer, r2_score, mean_squared_error\n",
    "from keras.wrappers.scikit_learn import KerasRegressor\n",
    "from sklearn.model_selection import GridSearchCV\n",
    "from sklearn.preprocessing import MinMaxScaler"
   ]
  },
  {
   "cell_type": "code",
   "execution_count": 62,
   "id": "67de65aa-105a-461a-94aa-f7772561ab01",
   "metadata": {},
   "outputs": [],
   "source": [
    "# import sys\n",
    "# sys.version"
   ]
  },
  {
   "cell_type": "code",
   "execution_count": 63,
   "id": "f896e767-5774-47b2-8caa-c463b9db7def",
   "metadata": {},
   "outputs": [],
   "source": [
    "# !pip list"
   ]
  },
  {
   "cell_type": "code",
   "execution_count": 43,
   "id": "6791e509-9621-4a1f-bfe6-1d146a4d47f0",
   "metadata": {},
   "outputs": [
    {
     "name": "stdout",
     "output_type": "stream",
     "text": [
      "2.15.0\n"
     ]
    }
   ],
   "source": [
    "#print(tf.__version__)"
   ]
  },
  {
   "cell_type": "code",
   "execution_count": 64,
   "id": "0fca58d7-46b8-4806-881a-9a57460b0012",
   "metadata": {},
   "outputs": [],
   "source": [
    "#pip install keras==3.3.3"
   ]
  },
  {
   "cell_type": "code",
   "execution_count": 65,
   "id": "6558896b-717c-47d9-830c-9cd62dea24e3",
   "metadata": {},
   "outputs": [],
   "source": [
    "#pip install tensorflow==2.16.1"
   ]
  },
  {
   "cell_type": "code",
   "execution_count": 73,
   "id": "f4925f1c-cbd1-4703-a6d9-a25752153641",
   "metadata": {},
   "outputs": [],
   "source": [
    "#pip install scikeras[tensorflow]"
   ]
  },
  {
   "cell_type": "code",
   "execution_count": 2,
   "id": "36e751f1",
   "metadata": {},
   "outputs": [
    {
     "data": {
      "text/html": [
       "<div>\n",
       "<style scoped>\n",
       "    .dataframe tbody tr th:only-of-type {\n",
       "        vertical-align: middle;\n",
       "    }\n",
       "\n",
       "    .dataframe tbody tr th {\n",
       "        vertical-align: top;\n",
       "    }\n",
       "\n",
       "    .dataframe thead th {\n",
       "        text-align: right;\n",
       "    }\n",
       "</style>\n",
       "<table border=\"1\" class=\"dataframe\">\n",
       "  <thead>\n",
       "    <tr style=\"text-align: right;\">\n",
       "      <th></th>\n",
       "      <th>number_of_rooms</th>\n",
       "      <th>floor</th>\n",
       "      <th>area</th>\n",
       "      <th>latitude</th>\n",
       "      <th>longitude</th>\n",
       "      <th>price</th>\n",
       "    </tr>\n",
       "  </thead>\n",
       "  <tbody>\n",
       "    <tr>\n",
       "      <th>0</th>\n",
       "      <td>1</td>\n",
       "      <td>1</td>\n",
       "      <td>58.0</td>\n",
       "      <td>38.585834</td>\n",
       "      <td>68.793715</td>\n",
       "      <td>330000</td>\n",
       "    </tr>\n",
       "    <tr>\n",
       "      <th>1</th>\n",
       "      <td>1</td>\n",
       "      <td>14</td>\n",
       "      <td>68.0</td>\n",
       "      <td>38.522254</td>\n",
       "      <td>68.749918</td>\n",
       "      <td>340000</td>\n",
       "    </tr>\n",
       "    <tr>\n",
       "      <th>3</th>\n",
       "      <td>3</td>\n",
       "      <td>14</td>\n",
       "      <td>84.0</td>\n",
       "      <td>38.520835</td>\n",
       "      <td>68.747908</td>\n",
       "      <td>700000</td>\n",
       "    </tr>\n",
       "    <tr>\n",
       "      <th>4</th>\n",
       "      <td>3</td>\n",
       "      <td>3</td>\n",
       "      <td>83.0</td>\n",
       "      <td>38.564374</td>\n",
       "      <td>68.739419</td>\n",
       "      <td>415000</td>\n",
       "    </tr>\n",
       "    <tr>\n",
       "      <th>5</th>\n",
       "      <td>3</td>\n",
       "      <td>4</td>\n",
       "      <td>53.0</td>\n",
       "      <td>38.530686</td>\n",
       "      <td>68.745261</td>\n",
       "      <td>513000</td>\n",
       "    </tr>\n",
       "  </tbody>\n",
       "</table>\n",
       "</div>"
      ],
      "text/plain": [
       "   number_of_rooms  floor  area   latitude  longitude   price\n",
       "0                1      1  58.0  38.585834  68.793715  330000\n",
       "1                1     14  68.0  38.522254  68.749918  340000\n",
       "3                3     14  84.0  38.520835  68.747908  700000\n",
       "4                3      3  83.0  38.564374  68.739419  415000\n",
       "5                3      4  53.0  38.530686  68.745261  513000"
      ]
     },
     "execution_count": 2,
     "metadata": {},
     "output_type": "execute_result"
    }
   ],
   "source": [
    "data = pd.read_csv(r\"C:\\Users\\lily\\Desktop\\IT alapok privát\\PRIV DATA SC 1025\\house 1030.csv\")\n",
    "\n",
    "data.dropna(inplace=True)\n",
    "\n",
    "data.head()"
   ]
  },
  {
   "cell_type": "markdown",
   "id": "e18b20b7-5b46-427d-9b28-e7c24e2db09e",
   "metadata": {},
   "source": [
    "##### Split the data into training and testing parts"
   ]
  },
  {
   "cell_type": "code",
   "execution_count": 3,
   "id": "7cb120d9",
   "metadata": {},
   "outputs": [],
   "source": [
    "X = data.drop('price', axis=1)\n",
    "y = data.price"
   ]
  },
  {
   "cell_type": "code",
   "execution_count": 4,
   "id": "a3366d00",
   "metadata": {},
   "outputs": [],
   "source": [
    "from sklearn.model_selection import train_test_split\n",
    "X_train, X_test, y_train , y_test = train_test_split(X, y, test_size=0.2, random_state=0)"
   ]
  },
  {
   "cell_type": "markdown",
   "id": "95f1866a-7e74-4d59-a40e-5f786f1f43b8",
   "metadata": {},
   "source": [
    "##### Build the Neural networks"
   ]
  },
  {
   "cell_type": "code",
   "execution_count": 66,
   "id": "6e8a7467",
   "metadata": {},
   "outputs": [
    {
     "data": {
      "text/plain": [
       "(2984, 5)"
      ]
     },
     "execution_count": 66,
     "metadata": {},
     "output_type": "execute_result"
    }
   ],
   "source": [
    "X_train.shape"
   ]
  },
  {
   "cell_type": "code",
   "execution_count": 22,
   "id": "4129bfab",
   "metadata": {},
   "outputs": [],
   "source": [
    "model_price = tf.keras.Sequential([ InputLayer(input_shape= 5),\n",
    "                                Dense(64, input_dim=X_train.shape[1], activation='relu'),\n",
    "                                Dense(32, activation = 'relu'),\n",
    "                                Dense(1, activation='linear')\n",
    "])\n"
   ]
  },
  {
   "cell_type": "markdown",
   "id": "d710f9c0-6bf2-4190-af60-b5081f0eb6c7",
   "metadata": {},
   "source": [
    "##### Compile the neural newtorks"
   ]
  },
  {
   "cell_type": "code",
   "execution_count": 23,
   "id": "3d75ccc3-0c03-49d6-9e55-558276ecc966",
   "metadata": {},
   "outputs": [],
   "source": [
    "model_price.compile(optimizer=Adam(learning_rate=0.01), loss='mse', metrics=[tf.keras.metrics.RootMeanSquaredError()])"
   ]
  },
  {
   "cell_type": "code",
   "execution_count": null,
   "id": "8e111710-9a26-4a44-96d7-135ac3288ef5",
   "metadata": {},
   "outputs": [],
   "source": []
  },
  {
   "cell_type": "markdown",
   "id": "bb961a78-76f8-4af1-b044-ad0ba29d93d5",
   "metadata": {},
   "source": [
    "##### Train the neural netrowks"
   ]
  },
  {
   "cell_type": "code",
   "execution_count": 24,
   "id": "d5198436",
   "metadata": {},
   "outputs": [
    {
     "name": "stdout",
     "output_type": "stream",
     "text": [
      "Epoch 1/100\n",
      "239/239 [==============================] - 2s 3ms/step - loss: 252858613760.0000 - root_mean_squared_error: 502850.5000 - val_loss: 199062323200.0000 - val_root_mean_squared_error: 446164.0312\n",
      "Epoch 2/100\n",
      "239/239 [==============================] - 1s 2ms/step - loss: 117862359040.0000 - root_mean_squared_error: 343310.8750 - val_loss: 185075335168.0000 - val_root_mean_squared_error: 430203.8438\n",
      "Epoch 3/100\n",
      "239/239 [==============================] - 1s 2ms/step - loss: 106745012224.0000 - root_mean_squared_error: 326718.5625 - val_loss: 169084387328.0000 - val_root_mean_squared_error: 411198.7188\n",
      "Epoch 4/100\n",
      "239/239 [==============================] - 1s 2ms/step - loss: 98658877440.0000 - root_mean_squared_error: 314100.0938 - val_loss: 160628965376.0000 - val_root_mean_squared_error: 400785.4688\n",
      "Epoch 5/100\n",
      "239/239 [==============================] - 1s 3ms/step - loss: 95346032640.0000 - root_mean_squared_error: 308781.5312 - val_loss: 157878632448.0000 - val_root_mean_squared_error: 397339.4062\n",
      "Epoch 6/100\n",
      "239/239 [==============================] - 1s 2ms/step - loss: 93764427776.0000 - root_mean_squared_error: 306209.7500 - val_loss: 151759618048.0000 - val_root_mean_squared_error: 389563.3750\n",
      "Epoch 7/100\n",
      "239/239 [==============================] - 1s 2ms/step - loss: 92956762112.0000 - root_mean_squared_error: 304888.1250 - val_loss: 152166612992.0000 - val_root_mean_squared_error: 390085.4062\n",
      "Epoch 8/100\n",
      "239/239 [==============================] - 1s 2ms/step - loss: 93315047424.0000 - root_mean_squared_error: 305475.1250 - val_loss: 151644061696.0000 - val_root_mean_squared_error: 389415.0312\n",
      "Epoch 9/100\n",
      "239/239 [==============================] - 1s 2ms/step - loss: 93043032064.0000 - root_mean_squared_error: 305029.5625 - val_loss: 150072754176.0000 - val_root_mean_squared_error: 387392.2500\n",
      "Epoch 10/100\n",
      "239/239 [==============================] - 1s 3ms/step - loss: 92698312704.0000 - root_mean_squared_error: 304463.9688 - val_loss: 150001336320.0000 - val_root_mean_squared_error: 387300.0625\n",
      "Epoch 11/100\n",
      "239/239 [==============================] - 1s 3ms/step - loss: 92856369152.0000 - root_mean_squared_error: 304723.4375 - val_loss: 154681442304.0000 - val_root_mean_squared_error: 393295.6250\n",
      "Epoch 12/100\n",
      "239/239 [==============================] - 1s 3ms/step - loss: 93359980544.0000 - root_mean_squared_error: 305548.6562 - val_loss: 150858186752.0000 - val_root_mean_squared_error: 388404.6875\n",
      "Epoch 13/100\n",
      "239/239 [==============================] - 1s 3ms/step - loss: 93348429824.0000 - root_mean_squared_error: 305529.7812 - val_loss: 150058926080.0000 - val_root_mean_squared_error: 387374.4062\n",
      "Epoch 14/100\n",
      "239/239 [==============================] - 1s 3ms/step - loss: 92974333952.0000 - root_mean_squared_error: 304916.9375 - val_loss: 150302982144.0000 - val_root_mean_squared_error: 387689.3125\n",
      "Epoch 15/100\n",
      "239/239 [==============================] - 1s 2ms/step - loss: 93044367360.0000 - root_mean_squared_error: 305031.7500 - val_loss: 152136810496.0000 - val_root_mean_squared_error: 390047.1875\n",
      "Epoch 16/100\n",
      "239/239 [==============================] - 0s 2ms/step - loss: 92548120576.0000 - root_mean_squared_error: 304217.2188 - val_loss: 152674009088.0000 - val_root_mean_squared_error: 390735.2188\n",
      "Epoch 17/100\n",
      "239/239 [==============================] - 0s 2ms/step - loss: 93080354816.0000 - root_mean_squared_error: 305090.7188 - val_loss: 149540536320.0000 - val_root_mean_squared_error: 386704.7188\n",
      "Epoch 18/100\n",
      "239/239 [==============================] - 0s 2ms/step - loss: 92482486272.0000 - root_mean_squared_error: 304109.3438 - val_loss: 151600611328.0000 - val_root_mean_squared_error: 389359.2188\n",
      "Epoch 19/100\n",
      "239/239 [==============================] - 0s 2ms/step - loss: 92561047552.0000 - root_mean_squared_error: 304238.4688 - val_loss: 151381524480.0000 - val_root_mean_squared_error: 389077.7812\n",
      "Epoch 20/100\n",
      "239/239 [==============================] - 0s 2ms/step - loss: 92743860224.0000 - root_mean_squared_error: 304538.7812 - val_loss: 154823540736.0000 - val_root_mean_squared_error: 393476.2188\n",
      "Epoch 21/100\n",
      "239/239 [==============================] - 0s 2ms/step - loss: 92996042752.0000 - root_mean_squared_error: 304952.5312 - val_loss: 149081817088.0000 - val_root_mean_squared_error: 386111.1562\n",
      "Epoch 22/100\n",
      "239/239 [==============================] - 0s 2ms/step - loss: 92933971968.0000 - root_mean_squared_error: 304850.7500 - val_loss: 148611792896.0000 - val_root_mean_squared_error: 385501.9688\n",
      "Epoch 23/100\n",
      "239/239 [==============================] - 0s 2ms/step - loss: 92411346944.0000 - root_mean_squared_error: 303992.3438 - val_loss: 152597528576.0000 - val_root_mean_squared_error: 390637.3125\n",
      "Epoch 24/100\n",
      "239/239 [==============================] - 0s 2ms/step - loss: 92737126400.0000 - root_mean_squared_error: 304527.7188 - val_loss: 149881831424.0000 - val_root_mean_squared_error: 387145.7812\n",
      "Epoch 25/100\n",
      "239/239 [==============================] - 0s 2ms/step - loss: 93133914112.0000 - root_mean_squared_error: 305178.5000 - val_loss: 148746174464.0000 - val_root_mean_squared_error: 385676.2500\n",
      "Epoch 26/100\n",
      "239/239 [==============================] - 0s 2ms/step - loss: 93024690176.0000 - root_mean_squared_error: 304999.5000 - val_loss: 149448769536.0000 - val_root_mean_squared_error: 386586.0312\n",
      "Epoch 27/100\n",
      "239/239 [==============================] - 0s 2ms/step - loss: 92843712512.0000 - root_mean_squared_error: 304702.6562 - val_loss: 148920074240.0000 - val_root_mean_squared_error: 385901.6250\n",
      "Epoch 28/100\n",
      "239/239 [==============================] - 0s 2ms/step - loss: 92657172480.0000 - root_mean_squared_error: 304396.4062 - val_loss: 150196174848.0000 - val_root_mean_squared_error: 387551.5000\n",
      "Epoch 29/100\n",
      "239/239 [==============================] - 0s 2ms/step - loss: 92625305600.0000 - root_mean_squared_error: 304344.0625 - val_loss: 149384937472.0000 - val_root_mean_squared_error: 386503.4688\n",
      "Epoch 30/100\n",
      "239/239 [==============================] - 0s 2ms/step - loss: 92093571072.0000 - root_mean_squared_error: 303469.2188 - val_loss: 149990506496.0000 - val_root_mean_squared_error: 387286.0938\n",
      "Epoch 31/100\n",
      "239/239 [==============================] - 1s 2ms/step - loss: 92995837952.0000 - root_mean_squared_error: 304952.1875 - val_loss: 148868251648.0000 - val_root_mean_squared_error: 385834.5000\n",
      "Epoch 32/100\n",
      "239/239 [==============================] - 1s 2ms/step - loss: 92752379904.0000 - root_mean_squared_error: 304552.7500 - val_loss: 148927561728.0000 - val_root_mean_squared_error: 385911.3438\n",
      "Epoch 33/100\n",
      "239/239 [==============================] - 1s 3ms/step - loss: 92681175040.0000 - root_mean_squared_error: 304435.8438 - val_loss: 150632595456.0000 - val_root_mean_squared_error: 388114.1562\n",
      "Epoch 34/100\n",
      "239/239 [==============================] - 1s 2ms/step - loss: 92386852864.0000 - root_mean_squared_error: 303952.0625 - val_loss: 149678489600.0000 - val_root_mean_squared_error: 386883.0312\n",
      "Epoch 35/100\n",
      "239/239 [==============================] - 1s 2ms/step - loss: 92842262528.0000 - root_mean_squared_error: 304700.2812 - val_loss: 151189602304.0000 - val_root_mean_squared_error: 388831.0625\n",
      "Epoch 36/100\n",
      "239/239 [==============================] - 1s 2ms/step - loss: 92424683520.0000 - root_mean_squared_error: 304014.2812 - val_loss: 152952111104.0000 - val_root_mean_squared_error: 391090.9375\n",
      "Epoch 37/100\n",
      "239/239 [==============================] - 1s 3ms/step - loss: 92598067200.0000 - root_mean_squared_error: 304299.3125 - val_loss: 150137257984.0000 - val_root_mean_squared_error: 387475.5000\n",
      "Epoch 38/100\n",
      "239/239 [==============================] - 1s 2ms/step - loss: 93022674944.0000 - root_mean_squared_error: 304996.1875 - val_loss: 149004484608.0000 - val_root_mean_squared_error: 386011.0000\n",
      "Epoch 39/100\n",
      "239/239 [==============================] - 1s 2ms/step - loss: 93311066112.0000 - root_mean_squared_error: 305468.5938 - val_loss: 148755890176.0000 - val_root_mean_squared_error: 385688.8438\n",
      "Epoch 40/100\n",
      "239/239 [==============================] - 1s 2ms/step - loss: 92798746624.0000 - root_mean_squared_error: 304628.8750 - val_loss: 148724432896.0000 - val_root_mean_squared_error: 385648.0625\n",
      "Epoch 41/100\n",
      "239/239 [==============================] - 1s 2ms/step - loss: 92723838976.0000 - root_mean_squared_error: 304505.9062 - val_loss: 150506504192.0000 - val_root_mean_squared_error: 387951.6875\n",
      "Epoch 42/100\n",
      "239/239 [==============================] - 1s 2ms/step - loss: 92517236736.0000 - root_mean_squared_error: 304166.4688 - val_loss: 148744404992.0000 - val_root_mean_squared_error: 385673.9688\n",
      "Epoch 43/100\n",
      "239/239 [==============================] - 1s 3ms/step - loss: 92376326144.0000 - root_mean_squared_error: 303934.7188 - val_loss: 150449897472.0000 - val_root_mean_squared_error: 387878.7188\n",
      "Epoch 44/100\n",
      "239/239 [==============================] - 1s 2ms/step - loss: 92566863872.0000 - root_mean_squared_error: 304248.0312 - val_loss: 150263775232.0000 - val_root_mean_squared_error: 387638.7188\n",
      "Epoch 45/100\n",
      "239/239 [==============================] - 0s 2ms/step - loss: 92692480000.0000 - root_mean_squared_error: 304454.4062 - val_loss: 149126348800.0000 - val_root_mean_squared_error: 386168.8125\n",
      "Epoch 46/100\n",
      "239/239 [==============================] - 0s 2ms/step - loss: 92798885888.0000 - root_mean_squared_error: 304629.0938 - val_loss: 148395491328.0000 - val_root_mean_squared_error: 385221.3750\n",
      "Epoch 47/100\n",
      "239/239 [==============================] - 0s 2ms/step - loss: 92870189056.0000 - root_mean_squared_error: 304746.0938 - val_loss: 149053079552.0000 - val_root_mean_squared_error: 386073.9375\n",
      "Epoch 48/100\n",
      "239/239 [==============================] - 0s 2ms/step - loss: 92978692096.0000 - root_mean_squared_error: 304924.0625 - val_loss: 148627636224.0000 - val_root_mean_squared_error: 385522.5625\n",
      "Epoch 49/100\n",
      "239/239 [==============================] - 0s 2ms/step - loss: 92502556672.0000 - root_mean_squared_error: 304142.3125 - val_loss: 151976755200.0000 - val_root_mean_squared_error: 389841.9688\n",
      "Epoch 50/100\n",
      "239/239 [==============================] - 0s 2ms/step - loss: 92590268416.0000 - root_mean_squared_error: 304286.5000 - val_loss: 148801323008.0000 - val_root_mean_squared_error: 385747.7500\n",
      "Epoch 51/100\n",
      "239/239 [==============================] - 0s 2ms/step - loss: 92641959936.0000 - root_mean_squared_error: 304371.4062 - val_loss: 154743930880.0000 - val_root_mean_squared_error: 393375.0625\n",
      "Epoch 52/100\n",
      "239/239 [==============================] - 0s 2ms/step - loss: 92434980864.0000 - root_mean_squared_error: 304031.2188 - val_loss: 151638327296.0000 - val_root_mean_squared_error: 389407.6562\n",
      "Epoch 53/100\n",
      "239/239 [==============================] - 0s 2ms/step - loss: 92551077888.0000 - root_mean_squared_error: 304222.0938 - val_loss: 150813409280.0000 - val_root_mean_squared_error: 388347.0312\n",
      "Epoch 54/100\n",
      "239/239 [==============================] - 0s 2ms/step - loss: 92531015680.0000 - root_mean_squared_error: 304189.1250 - val_loss: 149739290624.0000 - val_root_mean_squared_error: 386961.6250\n",
      "Epoch 55/100\n",
      "239/239 [==============================] - 0s 2ms/step - loss: 92649611264.0000 - root_mean_squared_error: 304384.0000 - val_loss: 149624291328.0000 - val_root_mean_squared_error: 386813.0000\n",
      "Epoch 56/100\n",
      "239/239 [==============================] - 0s 2ms/step - loss: 92352323584.0000 - root_mean_squared_error: 303895.2500 - val_loss: 152109056000.0000 - val_root_mean_squared_error: 390011.6250\n",
      "Epoch 57/100\n",
      "239/239 [==============================] - 0s 2ms/step - loss: 92921462784.0000 - root_mean_squared_error: 304830.2188 - val_loss: 149052162048.0000 - val_root_mean_squared_error: 386072.7500\n",
      "Epoch 58/100\n",
      "239/239 [==============================] - 0s 2ms/step - loss: 93004709888.0000 - root_mean_squared_error: 304966.7500 - val_loss: 149059862528.0000 - val_root_mean_squared_error: 386082.7188\n",
      "Epoch 59/100\n",
      "239/239 [==============================] - 0s 2ms/step - loss: 92594085888.0000 - root_mean_squared_error: 304292.7500 - val_loss: 152462770176.0000 - val_root_mean_squared_error: 390464.8125\n",
      "Epoch 60/100\n",
      "239/239 [==============================] - 1s 2ms/step - loss: 92129779712.0000 - root_mean_squared_error: 303528.8750 - val_loss: 148591984640.0000 - val_root_mean_squared_error: 385476.3125\n",
      "Epoch 61/100\n",
      "239/239 [==============================] - 0s 2ms/step - loss: 93003276288.0000 - root_mean_squared_error: 304964.4062 - val_loss: 150095773696.0000 - val_root_mean_squared_error: 387421.9688\n",
      "Epoch 62/100\n",
      "239/239 [==============================] - 0s 2ms/step - loss: 92340142080.0000 - root_mean_squared_error: 303875.2188 - val_loss: 148752613376.0000 - val_root_mean_squared_error: 385684.5938\n",
      "Epoch 63/100\n",
      "239/239 [==============================] - 0s 2ms/step - loss: 92627427328.0000 - root_mean_squared_error: 304347.5312 - val_loss: 148930985984.0000 - val_root_mean_squared_error: 385915.7812\n",
      "Epoch 64/100\n",
      "239/239 [==============================] - 1s 2ms/step - loss: 93168214016.0000 - root_mean_squared_error: 305234.6875 - val_loss: 149099626496.0000 - val_root_mean_squared_error: 386134.2188\n",
      "Epoch 65/100\n",
      "239/239 [==============================] - 1s 2ms/step - loss: 92380372992.0000 - root_mean_squared_error: 303941.4062 - val_loss: 148457259008.0000 - val_root_mean_squared_error: 385301.5312\n",
      "Epoch 66/100\n",
      "239/239 [==============================] - 1s 2ms/step - loss: 92606349312.0000 - root_mean_squared_error: 304312.9062 - val_loss: 148532527104.0000 - val_root_mean_squared_error: 385399.1562\n",
      "Epoch 67/100\n",
      "239/239 [==============================] - 1s 3ms/step - loss: 92167053312.0000 - root_mean_squared_error: 303590.2812 - val_loss: 150081339392.0000 - val_root_mean_squared_error: 387403.3438\n",
      "Epoch 68/100\n",
      "239/239 [==============================] - 1s 3ms/step - loss: 92342132736.0000 - root_mean_squared_error: 303878.4688 - val_loss: 150002073600.0000 - val_root_mean_squared_error: 387301.0000\n",
      "Epoch 69/100\n",
      "239/239 [==============================] - 1s 2ms/step - loss: 92407439360.0000 - root_mean_squared_error: 303985.9062 - val_loss: 151915085824.0000 - val_root_mean_squared_error: 389762.8438\n",
      "Epoch 70/100\n",
      "239/239 [==============================] - 1s 2ms/step - loss: 92978143232.0000 - root_mean_squared_error: 304923.1875 - val_loss: 149064040448.0000 - val_root_mean_squared_error: 386088.1250\n",
      "Epoch 71/100\n",
      "239/239 [==============================] - 1s 2ms/step - loss: 92428025856.0000 - root_mean_squared_error: 304019.7812 - val_loss: 150096035840.0000 - val_root_mean_squared_error: 387422.2812\n",
      "Epoch 72/100\n",
      "239/239 [==============================] - 0s 2ms/step - loss: 92676390912.0000 - root_mean_squared_error: 304427.9688 - val_loss: 149295005696.0000 - val_root_mean_squared_error: 386387.1250\n",
      "Epoch 73/100\n",
      "239/239 [==============================] - 0s 2ms/step - loss: 92639354880.0000 - root_mean_squared_error: 304367.1250 - val_loss: 148644315136.0000 - val_root_mean_squared_error: 385544.1875\n",
      "Epoch 74/100\n",
      "239/239 [==============================] - 0s 2ms/step - loss: 92198772736.0000 - root_mean_squared_error: 303642.5000 - val_loss: 149069987840.0000 - val_root_mean_squared_error: 386095.8125\n",
      "Epoch 75/100\n",
      "239/239 [==============================] - 0s 2ms/step - loss: 92662964224.0000 - root_mean_squared_error: 304405.9062 - val_loss: 148295172096.0000 - val_root_mean_squared_error: 385091.1562\n",
      "Epoch 76/100\n",
      "239/239 [==============================] - 0s 2ms/step - loss: 92492169216.0000 - root_mean_squared_error: 304125.2500 - val_loss: 150468771840.0000 - val_root_mean_squared_error: 387903.0312\n",
      "Epoch 77/100\n",
      "239/239 [==============================] - 1s 2ms/step - loss: 92487548928.0000 - root_mean_squared_error: 304117.6562 - val_loss: 149473198080.0000 - val_root_mean_squared_error: 386617.6250\n",
      "Epoch 78/100\n",
      "239/239 [==============================] - 0s 2ms/step - loss: 92640026624.0000 - root_mean_squared_error: 304368.2500 - val_loss: 150625009664.0000 - val_root_mean_squared_error: 388104.3750\n",
      "Epoch 79/100\n",
      "239/239 [==============================] - 0s 2ms/step - loss: 92235505664.0000 - root_mean_squared_error: 303703.0000 - val_loss: 151070031872.0000 - val_root_mean_squared_error: 388677.2812\n",
      "Epoch 80/100\n",
      "239/239 [==============================] - 0s 2ms/step - loss: 92293595136.0000 - root_mean_squared_error: 303798.6250 - val_loss: 149151088640.0000 - val_root_mean_squared_error: 386200.8438\n",
      "Epoch 81/100\n",
      "239/239 [==============================] - 0s 2ms/step - loss: 92657156096.0000 - root_mean_squared_error: 304396.3750 - val_loss: 151080747008.0000 - val_root_mean_squared_error: 388691.0625\n",
      "Epoch 82/100\n",
      "239/239 [==============================] - 0s 2ms/step - loss: 92438241280.0000 - root_mean_squared_error: 304036.5938 - val_loss: 148933476352.0000 - val_root_mean_squared_error: 385919.0000\n",
      "Epoch 83/100\n",
      "239/239 [==============================] - 0s 2ms/step - loss: 92733267968.0000 - root_mean_squared_error: 304521.3750 - val_loss: 149942779904.0000 - val_root_mean_squared_error: 387224.4688\n",
      "Epoch 84/100\n",
      "239/239 [==============================] - 0s 2ms/step - loss: 92873203712.0000 - root_mean_squared_error: 304751.0625 - val_loss: 149989228544.0000 - val_root_mean_squared_error: 387284.4062\n",
      "Epoch 85/100\n",
      "239/239 [==============================] - 0s 2ms/step - loss: 92975022080.0000 - root_mean_squared_error: 304918.0312 - val_loss: 149013643264.0000 - val_root_mean_squared_error: 386022.8438\n",
      "Epoch 86/100\n",
      "239/239 [==============================] - 0s 2ms/step - loss: 92541739008.0000 - root_mean_squared_error: 304206.7500 - val_loss: 151354589184.0000 - val_root_mean_squared_error: 389043.1562\n",
      "Epoch 87/100\n",
      "239/239 [==============================] - 0s 2ms/step - loss: 92382281728.0000 - root_mean_squared_error: 303944.5312 - val_loss: 150080045056.0000 - val_root_mean_squared_error: 387401.6562\n",
      "Epoch 88/100\n",
      "239/239 [==============================] - 0s 2ms/step - loss: 92270903296.0000 - root_mean_squared_error: 303761.2500 - val_loss: 151884120064.0000 - val_root_mean_squared_error: 389723.1250\n",
      "Epoch 89/100\n",
      "239/239 [==============================] - 0s 2ms/step - loss: 92405481472.0000 - root_mean_squared_error: 303982.7188 - val_loss: 148612579328.0000 - val_root_mean_squared_error: 385503.0312\n",
      "Epoch 90/100\n",
      "239/239 [==============================] - 0s 2ms/step - loss: 92271058944.0000 - root_mean_squared_error: 303761.5000 - val_loss: 148773470208.0000 - val_root_mean_squared_error: 385711.6562\n",
      "Epoch 91/100\n",
      "239/239 [==============================] - 0s 2ms/step - loss: 92729802752.0000 - root_mean_squared_error: 304515.6875 - val_loss: 149781037056.0000 - val_root_mean_squared_error: 387015.5625\n",
      "Epoch 92/100\n",
      "239/239 [==============================] - 0s 2ms/step - loss: 92144508928.0000 - root_mean_squared_error: 303553.1250 - val_loss: 148409532416.0000 - val_root_mean_squared_error: 385239.5625\n",
      "Epoch 93/100\n",
      "239/239 [==============================] - 0s 2ms/step - loss: 92779937792.0000 - root_mean_squared_error: 304598.0000 - val_loss: 148371226624.0000 - val_root_mean_squared_error: 385189.8438\n",
      "Epoch 94/100\n",
      "239/239 [==============================] - 1s 2ms/step - loss: 92609732608.0000 - root_mean_squared_error: 304318.4688 - val_loss: 151483482112.0000 - val_root_mean_squared_error: 389208.8125\n",
      "Epoch 95/100\n",
      "239/239 [==============================] - 0s 2ms/step - loss: 92409372672.0000 - root_mean_squared_error: 303989.0938 - val_loss: 150841737216.0000 - val_root_mean_squared_error: 388383.5000\n",
      "Epoch 96/100\n",
      "239/239 [==============================] - 0s 2ms/step - loss: 92329934848.0000 - root_mean_squared_error: 303858.4062 - val_loss: 148439941120.0000 - val_root_mean_squared_error: 385279.0312\n",
      "Epoch 97/100\n",
      "239/239 [==============================] - 0s 2ms/step - loss: 93168181248.0000 - root_mean_squared_error: 305234.6250 - val_loss: 149448687616.0000 - val_root_mean_squared_error: 386585.9375\n",
      "Epoch 98/100\n",
      "239/239 [==============================] - 0s 2ms/step - loss: 92431622144.0000 - root_mean_squared_error: 304025.6875 - val_loss: 148590247936.0000 - val_root_mean_squared_error: 385474.0625\n",
      "Epoch 99/100\n",
      "239/239 [==============================] - 0s 2ms/step - loss: 91940003840.0000 - root_mean_squared_error: 303216.0938 - val_loss: 148253032448.0000 - val_root_mean_squared_error: 385036.4375\n",
      "Epoch 100/100\n",
      "239/239 [==============================] - 0s 2ms/step - loss: 92242591744.0000 - root_mean_squared_error: 303714.6562 - val_loss: 149229404160.0000 - val_root_mean_squared_error: 386302.2188\n"
     ]
    },
    {
     "data": {
      "text/plain": [
       "<keras.src.callbacks.History at 0x1c1a478b550>"
      ]
     },
     "execution_count": 24,
     "metadata": {},
     "output_type": "execute_result"
    }
   ],
   "source": [
    "model_price.fit(X_train, y_train, epochs=100, batch_size=10, validation_split=0.2) "
   ]
  },
  {
   "cell_type": "code",
   "execution_count": null,
   "id": "be2ab5f4-d8fe-4787-b732-0039d6709f6a",
   "metadata": {},
   "outputs": [],
   "source": []
  },
  {
   "cell_type": "markdown",
   "id": "ce656219-4fbc-4a85-b540-e98628845770",
   "metadata": {},
   "source": [
    "##### Evaluate the neural networks"
   ]
  },
  {
   "cell_type": "code",
   "execution_count": 25,
   "id": "2be0bfdd",
   "metadata": {},
   "outputs": [
    {
     "name": "stdout",
     "output_type": "stream",
     "text": [
      "24/24 [==============================] - 0s 2ms/step\n"
     ]
    }
   ],
   "source": [
    "preds_price = model_price.predict(X_test)"
   ]
  },
  {
   "cell_type": "code",
   "execution_count": 26,
   "id": "4b29b487",
   "metadata": {},
   "outputs": [
    {
     "data": {
      "text/plain": [
       "0.5491626340510236"
      ]
     },
     "execution_count": 26,
     "metadata": {},
     "output_type": "execute_result"
    }
   ],
   "source": [
    "r2_score(y_test, preds_price)"
   ]
  },
  {
   "cell_type": "code",
   "execution_count": 27,
   "id": "4b25a59b-ec69-4045-98f7-62e82d877ea6",
   "metadata": {},
   "outputs": [
    {
     "data": {
      "text/plain": [
       "218336.53240577286"
      ]
     },
     "execution_count": 27,
     "metadata": {},
     "output_type": "execute_result"
    }
   ],
   "source": [
    "mse_dl = mean_squared_error(y_test, preds_price)\n",
    "rmse_dl = np.sqrt(mse_dl)\n",
    "rmse_dl"
   ]
  },
  {
   "cell_type": "markdown",
   "id": "392013a7-e03a-4364-82e8-cd26ab609afc",
   "metadata": {},
   "source": [
    "##### Visualize the outputs"
   ]
  },
  {
   "cell_type": "code",
   "execution_count": 28,
   "id": "1e2c909c",
   "metadata": {},
   "outputs": [
    {
     "data": {
      "image/png": "[encoded data removed]",
      "text/plain": [
       "<Figure size 640x480 with 1 Axes>"
      ]
     },
     "metadata": {},
     "output_type": "display_data"
    }
   ],
   "source": [
    "plt.plot([i for i in range(len(y_test))], y_test)\n",
    "plt.plot([i for i in range(len(y_test))], preds_price)\n",
    "plt.show()"
   ]
  },
  {
   "cell_type": "code",
   "execution_count": 48,
   "id": "eaf96e10",
   "metadata": {},
   "outputs": [],
   "source": []
  },
  {
   "cell_type": "code",
   "execution_count": 49,
   "id": "7042f2ff",
   "metadata": {},
   "outputs": [],
   "source": []
  },
  {
   "cell_type": "code",
   "execution_count": null,
   "id": "8b7c7811-7b1f-499a-a540-a0372c81723b",
   "metadata": {},
   "outputs": [],
   "source": []
  },
  {
   "cell_type": "markdown",
   "id": "4ed82efe",
   "metadata": {},
   "source": [
    "##### Adding 3 hiden layers"
   ]
  },
  {
   "cell_type": "code",
   "execution_count": 87,
   "id": "fc7c919e",
   "metadata": {},
   "outputs": [],
   "source": [
    "model_price02 = tf.keras.Sequential([ InputLayer(input_shape= 5),\n",
    "                                Dense(64, input_dim=X_train.shape[1], activation='relu'),\n",
    "                                Dense(32, activation = 'relu'),\n",
    "                                Dense(32, activation = 'relu'),\n",
    "                                Dense(1, activation='linear')\n",
    "])"
   ]
  },
  {
   "cell_type": "code",
   "execution_count": 88,
   "id": "599a02b4",
   "metadata": {},
   "outputs": [],
   "source": [
    "model_price02.compile(optimizer=Adam(learning_rate=0.01), loss='mse', metrics=[tf.keras.metrics.RootMeanSquaredError()])\n"
   ]
  },
  {
   "cell_type": "code",
   "execution_count": 89,
   "id": "9a9b66fc",
   "metadata": {},
   "outputs": [
    {
     "name": "stdout",
     "output_type": "stream",
     "text": [
      "Epoch 1/100\n",
      "239/239 [==============================] - 2s 4ms/step - loss: 193348321280.0000 - root_mean_squared_error: 439713.9062 - val_loss: 179068092416.0000 - val_root_mean_squared_error: 423164.3750\n",
      "Epoch 2/100\n",
      "239/239 [==============================] - 1s 3ms/step - loss: 100728848384.0000 - root_mean_squared_error: 317378.0938 - val_loss: 157053599744.0000 - val_root_mean_squared_error: 396299.9062\n",
      "Epoch 3/100\n",
      "239/239 [==============================] - 1s 3ms/step - loss: 94980055040.0000 - root_mean_squared_error: 308188.3438 - val_loss: 153524928512.0000 - val_root_mean_squared_error: 391822.5625\n",
      "Epoch 4/100\n",
      "239/239 [==============================] - 1s 3ms/step - loss: 94735024128.0000 - root_mean_squared_error: 307790.5625 - val_loss: 149554708480.0000 - val_root_mean_squared_error: 386723.0312\n",
      "Epoch 5/100\n",
      "239/239 [==============================] - 1s 3ms/step - loss: 95572942848.0000 - root_mean_squared_error: 309148.7500 - val_loss: 164961107968.0000 - val_root_mean_squared_error: 406154.0312\n",
      "Epoch 6/100\n",
      "239/239 [==============================] - 1s 3ms/step - loss: 94130421760.0000 - root_mean_squared_error: 306806.8125 - val_loss: 157551493120.0000 - val_root_mean_squared_error: 396927.5625\n",
      "Epoch 7/100\n",
      "239/239 [==============================] - 1s 3ms/step - loss: 94613430272.0000 - root_mean_squared_error: 307592.9688 - val_loss: 149261697024.0000 - val_root_mean_squared_error: 386344.0000\n",
      "Epoch 8/100\n",
      "239/239 [==============================] - 1s 3ms/step - loss: 93978206208.0000 - root_mean_squared_error: 306558.6562 - val_loss: 148434337792.0000 - val_root_mean_squared_error: 385271.7812\n",
      "Epoch 9/100\n",
      "239/239 [==============================] - 1s 3ms/step - loss: 93526818816.0000 - root_mean_squared_error: 305821.5625 - val_loss: 148138262528.0000 - val_root_mean_squared_error: 384887.3438\n",
      "Epoch 10/100\n",
      "239/239 [==============================] - 1s 2ms/step - loss: 94034436096.0000 - root_mean_squared_error: 306650.3438 - val_loss: 154766409728.0000 - val_root_mean_squared_error: 393403.6250\n",
      "Epoch 11/100\n",
      "239/239 [==============================] - 1s 2ms/step - loss: 93603315712.0000 - root_mean_squared_error: 305946.5938 - val_loss: 151059152896.0000 - val_root_mean_squared_error: 388663.2812\n",
      "Epoch 12/100\n",
      "239/239 [==============================] - 1s 3ms/step - loss: 93365723136.0000 - root_mean_squared_error: 305558.0625 - val_loss: 149611429888.0000 - val_root_mean_squared_error: 386796.3750\n",
      "Epoch 13/100\n",
      "239/239 [==============================] - 1s 3ms/step - loss: 94769643520.0000 - root_mean_squared_error: 307846.7812 - val_loss: 148246708224.0000 - val_root_mean_squared_error: 385028.1875\n",
      "Epoch 14/100\n",
      "239/239 [==============================] - 1s 3ms/step - loss: 93098975232.0000 - root_mean_squared_error: 305121.2500 - val_loss: 151143661568.0000 - val_root_mean_squared_error: 388772.0000\n",
      "Epoch 15/100\n",
      "239/239 [==============================] - 1s 3ms/step - loss: 95138603008.0000 - root_mean_squared_error: 308445.4688 - val_loss: 148022460416.0000 - val_root_mean_squared_error: 384736.8750\n",
      "Epoch 16/100\n",
      "239/239 [==============================] - 1s 3ms/step - loss: 93151182848.0000 - root_mean_squared_error: 305206.7812 - val_loss: 147804176384.0000 - val_root_mean_squared_error: 384453.0938\n",
      "Epoch 17/100\n",
      "239/239 [==============================] - 1s 3ms/step - loss: 94097031168.0000 - root_mean_squared_error: 306752.4062 - val_loss: 152447582208.0000 - val_root_mean_squared_error: 390445.3750\n",
      "Epoch 18/100\n",
      "239/239 [==============================] - 1s 2ms/step - loss: 93205954560.0000 - root_mean_squared_error: 305296.5000 - val_loss: 149808873472.0000 - val_root_mean_squared_error: 387051.5000\n",
      "Epoch 19/100\n",
      "239/239 [==============================] - 1s 2ms/step - loss: 93509697536.0000 - root_mean_squared_error: 305793.5625 - val_loss: 160872022016.0000 - val_root_mean_squared_error: 401088.5312\n",
      "Epoch 20/100\n",
      "239/239 [==============================] - 1s 3ms/step - loss: 95263940608.0000 - root_mean_squared_error: 308648.5938 - val_loss: 154856210432.0000 - val_root_mean_squared_error: 393517.7500\n",
      "Epoch 21/100\n",
      "239/239 [==============================] - 1s 3ms/step - loss: 93723992064.0000 - root_mean_squared_error: 306143.7500 - val_loss: 156059025408.0000 - val_root_mean_squared_error: 395043.0938\n",
      "Epoch 22/100\n",
      "239/239 [==============================] - 1s 3ms/step - loss: 94288134144.0000 - root_mean_squared_error: 307063.7188 - val_loss: 149019115520.0000 - val_root_mean_squared_error: 386029.9375\n",
      "Epoch 23/100\n",
      "239/239 [==============================] - 1s 3ms/step - loss: 94572429312.0000 - root_mean_squared_error: 307526.2812 - val_loss: 148910129152.0000 - val_root_mean_squared_error: 385888.7500\n",
      "Epoch 24/100\n",
      "239/239 [==============================] - 1s 3ms/step - loss: 94007099392.0000 - root_mean_squared_error: 306605.7812 - val_loss: 148343209984.0000 - val_root_mean_squared_error: 385153.5000\n",
      "Epoch 25/100\n",
      "239/239 [==============================] - 1s 2ms/step - loss: 92659113984.0000 - root_mean_squared_error: 304399.5938 - val_loss: 159409438720.0000 - val_root_mean_squared_error: 399261.1250\n",
      "Epoch 26/100\n",
      "239/239 [==============================] - 0s 2ms/step - loss: 94065950720.0000 - root_mean_squared_error: 306701.7188 - val_loss: 148087373824.0000 - val_root_mean_squared_error: 384821.2188\n",
      "Epoch 27/100\n",
      "239/239 [==============================] - 0s 2ms/step - loss: 93350682624.0000 - root_mean_squared_error: 305533.4375 - val_loss: 149082882048.0000 - val_root_mean_squared_error: 386112.5312\n",
      "Epoch 28/100\n",
      "239/239 [==============================] - 0s 2ms/step - loss: 93585571840.0000 - root_mean_squared_error: 305917.5938 - val_loss: 152982962176.0000 - val_root_mean_squared_error: 391130.3438\n",
      "Epoch 29/100\n",
      "239/239 [==============================] - 0s 2ms/step - loss: 94680014848.0000 - root_mean_squared_error: 307701.1875 - val_loss: 153836568576.0000 - val_root_mean_squared_error: 392220.0625\n",
      "Epoch 30/100\n",
      "239/239 [==============================] - 0s 2ms/step - loss: 92652920832.0000 - root_mean_squared_error: 304389.4375 - val_loss: 151227465728.0000 - val_root_mean_squared_error: 388879.7500\n",
      "Epoch 31/100\n",
      "239/239 [==============================] - 0s 2ms/step - loss: 93203447808.0000 - root_mean_squared_error: 305292.4062 - val_loss: 151979245568.0000 - val_root_mean_squared_error: 389845.1562\n",
      "Epoch 32/100\n",
      "239/239 [==============================] - 0s 2ms/step - loss: 93680082944.0000 - root_mean_squared_error: 306072.0312 - val_loss: 151035707392.0000 - val_root_mean_squared_error: 388633.1250\n",
      "Epoch 33/100\n",
      "239/239 [==============================] - 0s 2ms/step - loss: 94018715648.0000 - root_mean_squared_error: 306624.7188 - val_loss: 148099645440.0000 - val_root_mean_squared_error: 384837.1562\n",
      "Epoch 34/100\n",
      "239/239 [==============================] - 0s 2ms/step - loss: 93523910656.0000 - root_mean_squared_error: 305816.7812 - val_loss: 147791265792.0000 - val_root_mean_squared_error: 384436.2812\n",
      "Epoch 35/100\n",
      "239/239 [==============================] - 0s 2ms/step - loss: 93046865920.0000 - root_mean_squared_error: 305035.8438 - val_loss: 149650505728.0000 - val_root_mean_squared_error: 386846.8438\n",
      "Epoch 36/100\n",
      "239/239 [==============================] - 0s 2ms/step - loss: 94330003456.0000 - root_mean_squared_error: 307131.9062 - val_loss: 148021297152.0000 - val_root_mean_squared_error: 384735.3750\n",
      "Epoch 37/100\n",
      "239/239 [==============================] - 0s 2ms/step - loss: 93431111680.0000 - root_mean_squared_error: 305665.0312 - val_loss: 147513032704.0000 - val_root_mean_squared_error: 384074.2500\n",
      "Epoch 38/100\n",
      "239/239 [==============================] - 0s 2ms/step - loss: 93960151040.0000 - root_mean_squared_error: 306529.1875 - val_loss: 150449815552.0000 - val_root_mean_squared_error: 387878.6250\n",
      "Epoch 39/100\n",
      "239/239 [==============================] - 0s 2ms/step - loss: 93781458944.0000 - root_mean_squared_error: 306237.5938 - val_loss: 147276922880.0000 - val_root_mean_squared_error: 383766.7500\n",
      "Epoch 40/100\n",
      "239/239 [==============================] - 0s 2ms/step - loss: 94129979392.0000 - root_mean_squared_error: 306806.0938 - val_loss: 148865826816.0000 - val_root_mean_squared_error: 385831.3125\n",
      "Epoch 41/100\n",
      "239/239 [==============================] - 1s 3ms/step - loss: 95434072064.0000 - root_mean_squared_error: 308924.0312 - val_loss: 148455211008.0000 - val_root_mean_squared_error: 385298.8438\n",
      "Epoch 42/100\n",
      "239/239 [==============================] - 1s 3ms/step - loss: 93862248448.0000 - root_mean_squared_error: 306369.4688 - val_loss: 148615987200.0000 - val_root_mean_squared_error: 385507.4375\n",
      "Epoch 43/100\n",
      "239/239 [==============================] - 1s 3ms/step - loss: 93498269696.0000 - root_mean_squared_error: 305774.8750 - val_loss: 151900422144.0000 - val_root_mean_squared_error: 389744.0625\n",
      "Epoch 44/100\n",
      "239/239 [==============================] - 1s 3ms/step - loss: 94134460416.0000 - root_mean_squared_error: 306813.4062 - val_loss: 152133517312.0000 - val_root_mean_squared_error: 390043.0000\n",
      "Epoch 45/100\n",
      "239/239 [==============================] - 1s 3ms/step - loss: 93039632384.0000 - root_mean_squared_error: 305023.9688 - val_loss: 148180074496.0000 - val_root_mean_squared_error: 384941.6562\n",
      "Epoch 46/100\n",
      "239/239 [==============================] - 1s 3ms/step - loss: 92988891136.0000 - root_mean_squared_error: 304940.8125 - val_loss: 151598071808.0000 - val_root_mean_squared_error: 389355.9688\n",
      "Epoch 47/100\n",
      "239/239 [==============================] - 1s 3ms/step - loss: 92782198784.0000 - root_mean_squared_error: 304601.7188 - val_loss: 152792186880.0000 - val_root_mean_squared_error: 390886.4062\n",
      "Epoch 48/100\n",
      "239/239 [==============================] - 1s 3ms/step - loss: 93432987648.0000 - root_mean_squared_error: 305668.0938 - val_loss: 149508423680.0000 - val_root_mean_squared_error: 386663.1875\n",
      "Epoch 49/100\n",
      "239/239 [==============================] - 1s 3ms/step - loss: 93798391808.0000 - root_mean_squared_error: 306265.2188 - val_loss: 147516162048.0000 - val_root_mean_squared_error: 384078.3125\n",
      "Epoch 50/100\n",
      "239/239 [==============================] - 1s 3ms/step - loss: 93954588672.0000 - root_mean_squared_error: 306520.1250 - val_loss: 153083592704.0000 - val_root_mean_squared_error: 391258.9688\n",
      "Epoch 51/100\n",
      "239/239 [==============================] - 1s 3ms/step - loss: 93311229952.0000 - root_mean_squared_error: 305468.8750 - val_loss: 148449345536.0000 - val_root_mean_squared_error: 385291.2500\n",
      "Epoch 52/100\n",
      "239/239 [==============================] - 1s 3ms/step - loss: 93158014976.0000 - root_mean_squared_error: 305217.9688 - val_loss: 151073062912.0000 - val_root_mean_squared_error: 388681.1875\n",
      "Epoch 53/100\n",
      "239/239 [==============================] - 1s 2ms/step - loss: 93618348032.0000 - root_mean_squared_error: 305971.1562 - val_loss: 148528496640.0000 - val_root_mean_squared_error: 385393.9375\n",
      "Epoch 54/100\n",
      "239/239 [==============================] - 1s 2ms/step - loss: 93650305024.0000 - root_mean_squared_error: 306023.3750 - val_loss: 148659601408.0000 - val_root_mean_squared_error: 385564.0000\n",
      "Epoch 55/100\n",
      "239/239 [==============================] - 1s 2ms/step - loss: 93278879744.0000 - root_mean_squared_error: 305415.9062 - val_loss: 152327208960.0000 - val_root_mean_squared_error: 390291.1875\n",
      "Epoch 56/100\n",
      "239/239 [==============================] - 0s 2ms/step - loss: 93762101248.0000 - root_mean_squared_error: 306205.9688 - val_loss: 150576857088.0000 - val_root_mean_squared_error: 388042.3438\n",
      "Epoch 57/100\n",
      "239/239 [==============================] - 1s 2ms/step - loss: 93173202944.0000 - root_mean_squared_error: 305242.8438 - val_loss: 149692841984.0000 - val_root_mean_squared_error: 386901.5625\n",
      "Epoch 58/100\n",
      "239/239 [==============================] - 0s 2ms/step - loss: 93126705152.0000 - root_mean_squared_error: 305166.6875 - val_loss: 148520337408.0000 - val_root_mean_squared_error: 385383.3750\n",
      "Epoch 59/100\n",
      "239/239 [==============================] - 1s 2ms/step - loss: 92926279680.0000 - root_mean_squared_error: 304838.1250 - val_loss: 148021182464.0000 - val_root_mean_squared_error: 384735.2188\n",
      "Epoch 60/100\n",
      "239/239 [==============================] - 0s 2ms/step - loss: 93819273216.0000 - root_mean_squared_error: 306299.3125 - val_loss: 149643870208.0000 - val_root_mean_squared_error: 386838.2812\n",
      "Epoch 61/100\n",
      "239/239 [==============================] - 0s 2ms/step - loss: 93189824512.0000 - root_mean_squared_error: 305270.0938 - val_loss: 150950969344.0000 - val_root_mean_squared_error: 388524.0938\n",
      "Epoch 62/100\n",
      "239/239 [==============================] - 0s 2ms/step - loss: 92808929280.0000 - root_mean_squared_error: 304645.5938 - val_loss: 152011063296.0000 - val_root_mean_squared_error: 389885.9688\n",
      "Epoch 63/100\n",
      "239/239 [==============================] - 0s 2ms/step - loss: 92947046400.0000 - root_mean_squared_error: 304872.1875 - val_loss: 155415789568.0000 - val_root_mean_squared_error: 394228.0938\n",
      "Epoch 64/100\n",
      "239/239 [==============================] - 0s 2ms/step - loss: 93358424064.0000 - root_mean_squared_error: 305546.0938 - val_loss: 147740868608.0000 - val_root_mean_squared_error: 384370.7500\n",
      "Epoch 65/100\n",
      "239/239 [==============================] - 0s 2ms/step - loss: 93527613440.0000 - root_mean_squared_error: 305822.8438 - val_loss: 150787325952.0000 - val_root_mean_squared_error: 388313.4375\n",
      "Epoch 66/100\n",
      "239/239 [==============================] - 0s 2ms/step - loss: 93670653952.0000 - root_mean_squared_error: 306056.6250 - val_loss: 149661450240.0000 - val_root_mean_squared_error: 386861.0312\n",
      "Epoch 67/100\n",
      "239/239 [==============================] - 0s 2ms/step - loss: 93048545280.0000 - root_mean_squared_error: 305038.5938 - val_loss: 149717516288.0000 - val_root_mean_squared_error: 386933.4688\n",
      "Epoch 68/100\n",
      "239/239 [==============================] - 0s 2ms/step - loss: 94475771904.0000 - root_mean_squared_error: 307369.1250 - val_loss: 149016641536.0000 - val_root_mean_squared_error: 386026.7188\n",
      "Epoch 69/100\n",
      "239/239 [==============================] - 0s 2ms/step - loss: 92681175040.0000 - root_mean_squared_error: 304435.8438 - val_loss: 149643083776.0000 - val_root_mean_squared_error: 386837.2812\n",
      "Epoch 70/100\n",
      "239/239 [==============================] - 0s 2ms/step - loss: 93385875456.0000 - root_mean_squared_error: 305591.0312 - val_loss: 149290991616.0000 - val_root_mean_squared_error: 386381.9375\n",
      "Epoch 71/100\n",
      "239/239 [==============================] - 0s 2ms/step - loss: 93851787264.0000 - root_mean_squared_error: 306352.4062 - val_loss: 151430643712.0000 - val_root_mean_squared_error: 389140.8750\n",
      "Epoch 72/100\n",
      "239/239 [==============================] - 0s 2ms/step - loss: 93617455104.0000 - root_mean_squared_error: 305969.6875 - val_loss: 154786021376.0000 - val_root_mean_squared_error: 393428.5625\n",
      "Epoch 73/100\n",
      "239/239 [==============================] - 0s 2ms/step - loss: 94393516032.0000 - root_mean_squared_error: 307235.2812 - val_loss: 152598200320.0000 - val_root_mean_squared_error: 390638.1875\n",
      "Epoch 74/100\n",
      "239/239 [==============================] - 0s 2ms/step - loss: 93743382528.0000 - root_mean_squared_error: 306175.4062 - val_loss: 153081200640.0000 - val_root_mean_squared_error: 391255.9375\n",
      "Epoch 75/100\n",
      "239/239 [==============================] - 1s 2ms/step - loss: 93174071296.0000 - root_mean_squared_error: 305244.2812 - val_loss: 151287758848.0000 - val_root_mean_squared_error: 388957.2812\n",
      "Epoch 76/100\n",
      "239/239 [==============================] - 0s 2ms/step - loss: 93712400384.0000 - root_mean_squared_error: 306124.8125 - val_loss: 148607303680.0000 - val_root_mean_squared_error: 385496.1562\n",
      "Epoch 77/100\n",
      "239/239 [==============================] - 0s 2ms/step - loss: 93432094720.0000 - root_mean_squared_error: 305666.6250 - val_loss: 147519111168.0000 - val_root_mean_squared_error: 384082.1562\n",
      "Epoch 78/100\n",
      "239/239 [==============================] - 0s 2ms/step - loss: 93136896000.0000 - root_mean_squared_error: 305183.3750 - val_loss: 152059723776.0000 - val_root_mean_squared_error: 389948.3438\n",
      "Epoch 79/100\n",
      "239/239 [==============================] - 0s 2ms/step - loss: 93309853696.0000 - root_mean_squared_error: 305466.6250 - val_loss: 148021362688.0000 - val_root_mean_squared_error: 384735.4375\n",
      "Epoch 80/100\n",
      "239/239 [==============================] - 0s 2ms/step - loss: 92425691136.0000 - root_mean_squared_error: 304015.9375 - val_loss: 147342819328.0000 - val_root_mean_squared_error: 383852.6250\n",
      "Epoch 81/100\n",
      "239/239 [==============================] - 0s 2ms/step - loss: 93387096064.0000 - root_mean_squared_error: 305593.0312 - val_loss: 148112130048.0000 - val_root_mean_squared_error: 384853.3750\n",
      "Epoch 82/100\n",
      "239/239 [==============================] - 0s 2ms/step - loss: 94284759040.0000 - root_mean_squared_error: 307058.2188 - val_loss: 148877950976.0000 - val_root_mean_squared_error: 385847.0625\n",
      "Epoch 83/100\n",
      "239/239 [==============================] - 0s 2ms/step - loss: 93251551232.0000 - root_mean_squared_error: 305371.1562 - val_loss: 156092694528.0000 - val_root_mean_squared_error: 395085.6875\n",
      "Epoch 84/100\n",
      "239/239 [==============================] - 0s 2ms/step - loss: 93929553920.0000 - root_mean_squared_error: 306479.2812 - val_loss: 151619305472.0000 - val_root_mean_squared_error: 389383.2500\n",
      "Epoch 85/100\n",
      "239/239 [==============================] - 0s 2ms/step - loss: 93043818496.0000 - root_mean_squared_error: 305030.8438 - val_loss: 147589447680.0000 - val_root_mean_squared_error: 384173.7188\n",
      "Epoch 86/100\n",
      "239/239 [==============================] - 1s 2ms/step - loss: 92535808000.0000 - root_mean_squared_error: 304196.9688 - val_loss: 166363103232.0000 - val_root_mean_squared_error: 407876.3438\n",
      "Epoch 87/100\n",
      "239/239 [==============================] - 0s 2ms/step - loss: 95511986176.0000 - root_mean_squared_error: 309050.1250 - val_loss: 153678938112.0000 - val_root_mean_squared_error: 392019.0625\n",
      "Epoch 88/100\n",
      "239/239 [==============================] - 1s 2ms/step - loss: 93705060352.0000 - root_mean_squared_error: 306112.8125 - val_loss: 148951777280.0000 - val_root_mean_squared_error: 385942.7188\n",
      "Epoch 89/100\n",
      "239/239 [==============================] - 1s 3ms/step - loss: 92847988736.0000 - root_mean_squared_error: 304709.6875 - val_loss: 152803868672.0000 - val_root_mean_squared_error: 390901.3438\n",
      "Epoch 90/100\n",
      "239/239 [==============================] - 0s 2ms/step - loss: 93787488256.0000 - root_mean_squared_error: 306247.4375 - val_loss: 148749533184.0000 - val_root_mean_squared_error: 385680.6250\n",
      "Epoch 91/100\n",
      "239/239 [==============================] - 1s 2ms/step - loss: 93654597632.0000 - root_mean_squared_error: 306030.3750 - val_loss: 147789316096.0000 - val_root_mean_squared_error: 384433.7500\n",
      "Epoch 92/100\n",
      "239/239 [==============================] - 0s 2ms/step - loss: 94483742720.0000 - root_mean_squared_error: 307382.0938 - val_loss: 148230127616.0000 - val_root_mean_squared_error: 385006.6562\n",
      "Epoch 93/100\n",
      "239/239 [==============================] - 0s 2ms/step - loss: 92695429120.0000 - root_mean_squared_error: 304459.2500 - val_loss: 149341192192.0000 - val_root_mean_squared_error: 386446.8750\n",
      "Epoch 94/100\n",
      "239/239 [==============================] - 0s 2ms/step - loss: 94552612864.0000 - root_mean_squared_error: 307494.0938 - val_loss: 149604810752.0000 - val_root_mean_squared_error: 386787.7812\n",
      "Epoch 95/100\n",
      "239/239 [==============================] - 0s 2ms/step - loss: 93698990080.0000 - root_mean_squared_error: 306102.9062 - val_loss: 149187280896.0000 - val_root_mean_squared_error: 386247.6875\n",
      "Epoch 96/100\n",
      "239/239 [==============================] - 0s 2ms/step - loss: 93790035968.0000 - root_mean_squared_error: 306251.5938 - val_loss: 148212056064.0000 - val_root_mean_squared_error: 384983.2188\n",
      "Epoch 97/100\n",
      "239/239 [==============================] - 0s 2ms/step - loss: 93112549376.0000 - root_mean_squared_error: 305143.5000 - val_loss: 149796012032.0000 - val_root_mean_squared_error: 387034.9062\n",
      "Epoch 98/100\n",
      "239/239 [==============================] - 0s 2ms/step - loss: 94481547264.0000 - root_mean_squared_error: 307378.5000 - val_loss: 147296305152.0000 - val_root_mean_squared_error: 383792.0000\n",
      "Epoch 99/100\n",
      "239/239 [==============================] - 0s 2ms/step - loss: 93692289024.0000 - root_mean_squared_error: 306091.9688 - val_loss: 151461953536.0000 - val_root_mean_squared_error: 389181.1250\n",
      "Epoch 100/100\n",
      "239/239 [==============================] - 0s 2ms/step - loss: 94490984448.0000 - root_mean_squared_error: 307393.8438 - val_loss: 148461600768.0000 - val_root_mean_squared_error: 385307.1875\n"
     ]
    },
    {
     "data": {
      "text/plain": [
       "<keras.src.callbacks.History at 0x1c1ae9c15d0>"
      ]
     },
     "execution_count": 89,
     "metadata": {},
     "output_type": "execute_result"
    }
   ],
   "source": [
    "model_price02.fit(X_train, y_train, epochs=100, batch_size=10, validation_split=0.2) "
   ]
  },
  {
   "cell_type": "code",
   "execution_count": 90,
   "id": "1ff9ac52",
   "metadata": {},
   "outputs": [
    {
     "name": "stdout",
     "output_type": "stream",
     "text": [
      "24/24 [==============================] - 0s 2ms/step\n"
     ]
    }
   ],
   "source": [
    "preds_price02 = model_price02.predict(X_test)"
   ]
  },
  {
   "cell_type": "code",
   "execution_count": 91,
   "id": "a51358e2",
   "metadata": {},
   "outputs": [
    {
     "data": {
      "text/plain": [
       "0.5329189228418801"
      ]
     },
     "execution_count": 91,
     "metadata": {},
     "output_type": "execute_result"
    }
   ],
   "source": [
    "r2_score(y_test, preds_price02)"
   ]
  },
  {
   "cell_type": "code",
   "execution_count": 92,
   "id": "b7533936-99c3-4da5-8e96-3a66dc4d6152",
   "metadata": {},
   "outputs": [
    {
     "data": {
      "text/plain": [
       "222235.06951916625"
      ]
     },
     "execution_count": 92,
     "metadata": {},
     "output_type": "execute_result"
    }
   ],
   "source": [
    "mse_dl = mean_squared_error(y_test, preds_price02)\n",
    "rmse_dl = np.sqrt(mse_dl)\n",
    "rmse_dl"
   ]
  },
  {
   "cell_type": "code",
   "execution_count": null,
   "id": "52482c16-62a5-4193-80e7-ee75f8fc63bb",
   "metadata": {},
   "outputs": [],
   "source": []
  },
  {
   "cell_type": "code",
   "execution_count": null,
   "id": "b4ab9dbd-c4ff-4777-89c0-2373f7195a55",
   "metadata": {},
   "outputs": [],
   "source": []
  },
  {
   "cell_type": "code",
   "execution_count": null,
   "id": "3e6eafec-616e-4032-8719-10f22f810f3b",
   "metadata": {},
   "outputs": [],
   "source": []
  },
  {
   "cell_type": "code",
   "execution_count": null,
   "id": "2c709234",
   "metadata": {},
   "outputs": [],
   "source": []
  }
 ],
 "metadata": {
  "kernelspec": {
   "display_name": "Python 3 (ipykernel)",
   "language": "python",
   "name": "python3"
  },
  "language_info": {
   "codemirror_mode": {
    "name": "ipython",
    "version": 3
   },
   "file_extension": ".py",
   "mimetype": "text/x-python",
   "name": "python",
   "nbconvert_exporter": "python",
   "pygments_lexer": "ipython3",
   "version": "3.11.9"
  }
 },
 "nbformat": 4,
 "nbformat_minor": 5
}
